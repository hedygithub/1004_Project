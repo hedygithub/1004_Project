{
 "cells": [
  {
   "cell_type": "code",
   "execution_count": null,
   "metadata": {
    "pycharm": {
     "name": "#%%\n"
    }
   },
   "outputs": [],
   "source": [
    "cd <your path>"
   ]
  },
  {
   "cell_type": "markdown",
   "metadata": {
    "id": "0q6Pw0pJSBBv"
   },
   "source": [
    "# Begining"
   ]
  },
  {
   "cell_type": "markdown",
   "metadata": {
    "id": "I7v4rsrRYIp0"
   },
   "source": [
    "## Load modules"
   ]
  },
  {
   "cell_type": "code",
   "execution_count": null,
   "metadata": {
    "id": "RtxMt53pSBBw"
   },
   "outputs": [],
   "source": [
    "! pip install pyspark"
   ]
  },
  {
   "cell_type": "code",
   "execution_count": null,
   "metadata": {
    "id": "di0517yhSBBx"
   },
   "outputs": [],
   "source": [
    "from operator import itemgetter\n",
    "import time\n",
    "import sys\n",
    "import getpass\n",
    "from pathlib import Path\n",
    "import pandas as pd\n",
    "import numpy as np\n",
    "\n",
    "import itertools"
   ]
  },
  {
   "cell_type": "markdown",
   "metadata": {
    "id": "OKUNH8c4SBBy"
   },
   "source": [
    "## Define the Parameters"
   ]
  },
  {
   "cell_type": "code",
   "execution_count": null,
   "metadata": {
    "id": "91U9WtARSBBy"
   },
   "outputs": [],
   "source": [
    "# PATH = '/scratch/work/courses/DSGA1004-2021/MSD'\n",
    "PATH = './data'\n",
    "\n",
    "STATS_PATH = Path('./saved_tuned_model_stats')\n",
    "\n",
    "WHOLE_DATA = True\n",
    "FRACTION = 1.00\n",
    "TOP=500\n",
    "PREC_AT = 500"
   ]
  },
  {
   "cell_type": "markdown",
   "metadata": {
    "id": "4QlF_Ni1foiu"
   },
   "source": [
    "# Load the data"
   ]
  },
  {
   "cell_type": "code",
   "execution_count": null,
   "metadata": {
    "colab": {
     "base_uri": "https://localhost:8080/"
    },
    "executionInfo": {
     "elapsed": 126491,
     "status": "ok",
     "timestamp": 1620747762400,
     "user": {
      "displayName": "Di He",
      "photoUrl": "",
      "userId": "01551765020394733104"
     },
     "user_tz": 240
    },
    "id": "6XHifVcqdI-9",
    "outputId": "6ba1ebd8-a877-4a2a-ecde-1d9ecd2d809d"
   },
   "outputs": [
    {
     "name": "stdout",
     "output_type": "stream",
     "text": [
      "Successfully loaded the data\n"
     ]
    }
   ],
   "source": [
    "if WHOLE_DATA:\n",
    "    train_pd = pd.read_parquet(PATH+'/cf_train_trans.parquet')\n",
    "    unique_user_index_val_pd = pd.read_parquet(PATH+'/unique_user_index_val.parquet')\n",
    "else:\n",
    "    train_pd = pd.read_parquet(PATH+'/cf_train_trans_{}.parquet'.format(str(FRACTION).replace('.','_')))\n",
    "    unique_user_index_val_pd = pd.read_parquet(PATH+'/unique_user_index_val.parquet')\n",
    "    unique_user_index_val_pd = unique_user_index_val_pd.sample(replace=False, frac=max(FRACTION,0.05)) \n",
    "\n",
    "val_pd = pd.read_parquet(PATH+'/cf_validation_trans.parquet')\n",
    "print('Successfully loaded the data')"
   ]
  },
  {
   "cell_type": "code",
   "execution_count": null,
   "metadata": {
    "colab": {
     "base_uri": "https://localhost:8080/",
     "height": 106
    },
    "executionInfo": {
     "elapsed": 905,
     "status": "ok",
     "timestamp": 1620747847993,
     "user": {
      "displayName": "Di He",
      "photoUrl": "",
      "userId": "01551765020394733104"
     },
     "user_tz": 240
    },
    "id": "lc9LFZT6oX0A",
    "outputId": "2e9361ae-20da-4955-a3a2-495401b729c7"
   },
   "outputs": [
    {
     "data": {
      "text/html": [
       "<div>\n",
       "<style scoped>\n",
       "    .dataframe tbody tr th:only-of-type {\n",
       "        vertical-align: middle;\n",
       "    }\n",
       "\n",
       "    .dataframe tbody tr th {\n",
       "        vertical-align: top;\n",
       "    }\n",
       "\n",
       "    .dataframe thead th {\n",
       "        text-align: right;\n",
       "    }\n",
       "</style>\n",
       "<table border=\"1\" class=\"dataframe\">\n",
       "  <thead>\n",
       "    <tr style=\"text-align: right;\">\n",
       "      <th></th>\n",
       "      <th>user_id</th>\n",
       "      <th>rating</th>\n",
       "      <th>track_id</th>\n",
       "      <th>__index_level_0__</th>\n",
       "      <th>user</th>\n",
       "      <th>item</th>\n",
       "    </tr>\n",
       "  </thead>\n",
       "  <tbody>\n",
       "    <tr>\n",
       "      <th>0</th>\n",
       "      <td>b80344d063b5ccb3212f76538f3d9e43d87dca9e</td>\n",
       "      <td>1</td>\n",
       "      <td>TRIQAUQ128F42435AD</td>\n",
       "      <td>0</td>\n",
       "      <td>811701</td>\n",
       "      <td>127138</td>\n",
       "    </tr>\n",
       "    <tr>\n",
       "      <th>1</th>\n",
       "      <td>b80344d063b5ccb3212f76538f3d9e43d87dca9e</td>\n",
       "      <td>1</td>\n",
       "      <td>TRIRLYL128F42539D1</td>\n",
       "      <td>1</td>\n",
       "      <td>811701</td>\n",
       "      <td>127949</td>\n",
       "    </tr>\n",
       "  </tbody>\n",
       "</table>\n",
       "</div>"
      ],
      "text/plain": [
       "                                    user_id  rating  ...    user    item\n",
       "0  b80344d063b5ccb3212f76538f3d9e43d87dca9e       1  ...  811701  127138\n",
       "1  b80344d063b5ccb3212f76538f3d9e43d87dca9e       1  ...  811701  127949\n",
       "\n",
       "[2 rows x 6 columns]"
      ]
     },
     "execution_count": 8,
     "metadata": {
      "tags": []
     },
     "output_type": "execute_result"
    }
   ],
   "source": [
    "train_pd.rename(columns={'user_index':'user','track_index':'item','count':'rating'}, inplace=True)\n",
    "train_pd.head(2)"
   ]
  },
  {
   "cell_type": "code",
   "execution_count": null,
   "metadata": {
    "id": "YVwjPLdwrRWo"
   },
   "outputs": [],
   "source": [
    "unique_user_index_val_pd = np.array(unique_user_index_val_pd.values.tolist())\n",
    "unique_user_index_val_list = list(unique_user_index_val_pd.reshape(-1))"
   ]
  },
  {
   "cell_type": "code",
   "execution_count": null,
   "metadata": {
    "colab": {
     "base_uri": "https://localhost:8080/",
     "height": 106
    },
    "executionInfo": {
     "elapsed": 846,
     "status": "ok",
     "timestamp": 1620747849712,
     "user": {
      "displayName": "Di He",
      "photoUrl": "",
      "userId": "01551765020394733104"
     },
     "user_tz": 240
    },
    "id": "6WwiO-SR_0p_",
    "outputId": "cb971b09-8c87-4715-c802-5105c6c6c401"
   },
   "outputs": [
    {
     "data": {
      "text/html": [
       "<div>\n",
       "<style scoped>\n",
       "    .dataframe tbody tr th:only-of-type {\n",
       "        vertical-align: middle;\n",
       "    }\n",
       "\n",
       "    .dataframe tbody tr th {\n",
       "        vertical-align: top;\n",
       "    }\n",
       "\n",
       "    .dataframe thead th {\n",
       "        text-align: right;\n",
       "    }\n",
       "</style>\n",
       "<table border=\"1\" class=\"dataframe\">\n",
       "  <thead>\n",
       "    <tr style=\"text-align: right;\">\n",
       "      <th></th>\n",
       "      <th>user_id</th>\n",
       "      <th>rating</th>\n",
       "      <th>track_id</th>\n",
       "      <th>__index_level_0__</th>\n",
       "      <th>user</th>\n",
       "      <th>item</th>\n",
       "    </tr>\n",
       "  </thead>\n",
       "  <tbody>\n",
       "    <tr>\n",
       "      <th>0</th>\n",
       "      <td>0007140a3796e901f3190f12e9de6d7548d4ac4a</td>\n",
       "      <td>1</td>\n",
       "      <td>TRUFCYO128F422B898</td>\n",
       "      <td>0</td>\n",
       "      <td>109</td>\n",
       "      <td>300356</td>\n",
       "    </tr>\n",
       "    <tr>\n",
       "      <th>1</th>\n",
       "      <td>0007140a3796e901f3190f12e9de6d7548d4ac4a</td>\n",
       "      <td>2</td>\n",
       "      <td>TROBZPR128F14808FF</td>\n",
       "      <td>1</td>\n",
       "      <td>109</td>\n",
       "      <td>209116</td>\n",
       "    </tr>\n",
       "  </tbody>\n",
       "</table>\n",
       "</div>"
      ],
      "text/plain": [
       "                                    user_id  rating  ... user    item\n",
       "0  0007140a3796e901f3190f12e9de6d7548d4ac4a       1  ...  109  300356\n",
       "1  0007140a3796e901f3190f12e9de6d7548d4ac4a       2  ...  109  209116\n",
       "\n",
       "[2 rows x 6 columns]"
      ]
     },
     "execution_count": 10,
     "metadata": {
      "tags": []
     },
     "output_type": "execute_result"
    }
   ],
   "source": [
    "val_pd.rename(columns={'user_index':'user','track_index':'item','count':'rating'}, inplace=True)\n",
    "val_pd.head(2)"
   ]
  },
  {
   "cell_type": "markdown",
   "metadata": {
    "id": "OCsPoFDelOSv"
   },
   "source": [
    "# ALS Model lenskit"
   ]
  },
  {
   "cell_type": "code",
   "execution_count": null,
   "metadata": {
    "colab": {
     "base_uri": "https://localhost:8080/"
    },
    "executionInfo": {
     "elapsed": 9698,
     "status": "ok",
     "timestamp": 1620747861449,
     "user": {
      "displayName": "Di He",
      "photoUrl": "",
      "userId": "01551765020394733104"
     },
     "user_tz": 240
    },
    "id": "ehaENWf-lQp8",
    "outputId": "a0cb6bce-62ef-4e79-e4d0-1792973c3693"
   },
   "outputs": [
    {
     "name": "stdout",
     "output_type": "stream",
     "text": [
      "Collecting lenskit\n",
      "\u001b[?25l  Downloading https://files.pythonhosted.org/packages/a5/35/2d052536f880cc5504713d5af69562acea8afa8e1734fd5ef174b950887b/lenskit-0.12.3-py3-none-any.whl (82kB)\n",
      "\r",
      "\u001b[K     |████                            | 10kB 15.2MB/s eta 0:00:01\r",
      "\u001b[K     |████████                        | 20kB 22.6MB/s eta 0:00:01\r",
      "\u001b[K     |████████████                    | 30kB 28.6MB/s eta 0:00:01\r",
      "\u001b[K     |████████████████                | 40kB 21.1MB/s eta 0:00:01\r",
      "\u001b[K     |████████████████████            | 51kB 15.1MB/s eta 0:00:01\r",
      "\u001b[K     |████████████████████████        | 61kB 11.9MB/s eta 0:00:01\r",
      "\u001b[K     |███████████████████████████▉    | 71kB 11.6MB/s eta 0:00:01\r",
      "\u001b[K     |███████████████████████████████▉| 81kB 12.8MB/s eta 0:00:01\r",
      "\u001b[K     |████████████████████████████████| 92kB 4.5MB/s \n",
      "\u001b[?25hRequirement already satisfied: numba<0.53,>=0.51 in /usr/local/lib/python3.7/dist-packages (from lenskit) (0.51.2)\n",
      "Collecting csr<0.3,>=0.2\n",
      "  Downloading https://files.pythonhosted.org/packages/7b/cf/6f3e70794536754544b2fdbe04166e307e3876094b220354b98b1077508b/csr-0.2.0-py3-none-any.whl\n",
      "Requirement already satisfied: cffi>=1.12.2 in /usr/local/lib/python3.7/dist-packages (from lenskit) (1.14.5)\n",
      "Requirement already satisfied: pyarrow>=0.15 in /usr/local/lib/python3.7/dist-packages (from lenskit) (3.0.0)\n",
      "Requirement already satisfied: scipy>=1.2 in /usr/local/lib/python3.7/dist-packages (from lenskit) (1.4.1)\n",
      "Collecting binpickle>=0.3.2\n",
      "  Downloading https://files.pythonhosted.org/packages/4d/e3/7aa8964f808f4e25ef0ff46b4fca7861079aacbbb572743557d6d686c3c6/binpickle-0.3.3-py3-none-any.whl\n",
      "Requirement already satisfied: pandas>=0.24 in /usr/local/lib/python3.7/dist-packages (from lenskit) (1.1.5)\n",
      "Requirement already satisfied: numpy>=1.16 in /usr/local/lib/python3.7/dist-packages (from lenskit) (1.19.5)\n",
      "Requirement already satisfied: setuptools in /usr/local/lib/python3.7/dist-packages (from numba<0.53,>=0.51->lenskit) (56.1.0)\n",
      "Requirement already satisfied: llvmlite<0.35,>=0.34.0.dev0 in /usr/local/lib/python3.7/dist-packages (from numba<0.53,>=0.51->lenskit) (0.34.0)\n",
      "Requirement already satisfied: pycparser in /usr/local/lib/python3.7/dist-packages (from cffi>=1.12.2->lenskit) (2.20)\n",
      "Collecting pickle5; python_version < \"3.8\"\n",
      "\u001b[?25l  Downloading https://files.pythonhosted.org/packages/f7/4c/5c4dd0462c8d3a6bc4af500a6af240763c2ebd1efdc736fc2c946d44b70a/pickle5-0.0.11.tar.gz (132kB)\n",
      "\u001b[K     |████████████████████████████████| 133kB 18.4MB/s \n",
      "\u001b[?25hRequirement already satisfied: msgpack>=1.0 in /usr/local/lib/python3.7/dist-packages (from binpickle>=0.3.2->lenskit) (1.0.2)\n",
      "Requirement already satisfied: pytz>=2017.2 in /usr/local/lib/python3.7/dist-packages (from pandas>=0.24->lenskit) (2018.9)\n",
      "Requirement already satisfied: python-dateutil>=2.7.3 in /usr/local/lib/python3.7/dist-packages (from pandas>=0.24->lenskit) (2.8.1)\n",
      "Requirement already satisfied: six>=1.5 in /usr/local/lib/python3.7/dist-packages (from python-dateutil>=2.7.3->pandas>=0.24->lenskit) (1.15.0)\n",
      "Building wheels for collected packages: pickle5\n",
      "  Building wheel for pickle5 (setup.py) ... \u001b[?25l\u001b[?25hdone\n",
      "  Created wheel for pickle5: filename=pickle5-0.0.11-cp37-cp37m-linux_x86_64.whl size=219250 sha256=e6e8018d5fbe93f4b402366e734c9657b59b4df3290166399d727afb7161b80f\n",
      "  Stored in directory: /root/.cache/pip/wheels/a6/90/95/f889ca4aa8b0e0c7f21c8470b6f5d6032f0390a3a141a9a3bd\n",
      "Successfully built pickle5\n",
      "Installing collected packages: csr, pickle5, binpickle, lenskit\n",
      "Successfully installed binpickle-0.3.3 csr-0.2.0 lenskit-0.12.3 pickle5-0.0.11\n"
     ]
    }
   ],
   "source": [
    "! pip install lenskit"
   ]
  },
  {
   "cell_type": "code",
   "execution_count": null,
   "metadata": {
    "id": "n-g-b_FWlTW-"
   },
   "outputs": [],
   "source": [
    "from lenskit.algorithms import als as ALS_ext\n",
    "from lenskit.algorithms import Recommender\n",
    "from lenskit import batch, topn, util"
   ]
  },
  {
   "cell_type": "code",
   "execution_count": null,
   "metadata": {
    "colab": {
     "base_uri": "https://localhost:8080/"
    },
    "executionInfo": {
     "elapsed": 2122873,
     "status": "ok",
     "timestamp": 1620758399788,
     "user": {
      "displayName": "Di He",
      "photoUrl": "",
      "userId": "01551765020394733104"
     },
     "user_tz": 240
    },
    "id": "10ca6OP2VwY-",
    "outputId": "d1f1f72c-2f4f-47cd-ba11-854545e2ed33"
   },
   "outputs": [
    {
     "name": "stdout",
     "output_type": "stream",
     "text": [
      "length of params 3\n",
      "/usr/local/lib/python3.7/dist-packages/ipykernel_launcher.py -f /root/.local/share/jupyter/runtime/kernel-e5454f5f-1a37-42a9-98b2-37175efd6ed1.json\n",
      "With Rank:10, Reg:1, Alpha:1, Maxiter:5, Metric: 0.007356200000000163, time TTL: 637.7977559566498, fit: 93.50110816955566, rec: 456.71342635154724, evl: 87.58322143554688\n",
      "With Rank:20, Reg:1, Alpha:1, Maxiter:5, Metric: 0.008199000000000133, time TTL: 698.7235927581787, fit: 127.64269423484802, rec: 485.28489089012146, evl: 85.79600763320923\n",
      "With Rank:30, Reg:1, Alpha:1, Maxiter:5, Metric: 0.008628600000000139, time TTL: 785.9004993438721, fit: 165.6219139099121, rec: 531.1211321353912, evl: 89.15745329856873\n"
     ]
    }
   ],
   "source": [
    "ranks = [i for i in range(10,40,10)]\n",
    "# ranks = [i for i in range(100,500,30)]\n",
    "regParams = [1] #[10**i for i in range(-2,1)   \n",
    "alphas = [1]\n",
    "maxIter = [5]\n",
    "\n",
    "params = [[a,b,c,d] for a,b,c,d in itertools.product(ranks, regParams, alphas, maxIter)]\n",
    "print('length of params',len(params))\n",
    "\n",
    "precisionAt_k_highest = 0\n",
    "stats_file = open(STATS_PATH/'stats_lenskit_{}.txt'.format(str(FRACTION).replace('.','_')), 'a', buffering=1)\n",
    "print(' '.join(sys.argv))\n",
    "print(' '.join(sys.argv), file=stats_file)\n",
    "for rk,reg,alp,it in itertools.product(ranks, regParams, alphas, maxIter):\n",
    "    since = time.time()\n",
    "    als_ext = ALS_ext.ImplicitMF(features=rk, iterations=it, reg=reg, weight=alp)\n",
    "    als_ext = Recommender.adapt(als_ext)\n",
    "\n",
    "    model_ext = als_ext.fit(train_pd)\n",
    "    time_to_fit = time.time() - since\n",
    "\n",
    "    pred_recs_tracks_val_ext = batch.recommend(model_ext, unique_user_index_val_list, TOP)\n",
    "    time_to_recommend = time.time() - since\n",
    "\n",
    "    rla = topn.RecListAnalysis()\n",
    "    rla.add_metric(topn.precision)\n",
    "    results = rla.compute(pred_recs_tracks_val_ext, val_pd)\n",
    "    precisionAt_k = results.precision.mean()\n",
    "    time_to_eval = time.time() - since\n",
    "    \n",
    "    print(\"With Rank:{}, Reg:{}, Alpha:{}, Maxiter:{}, Metric: {}, time TTL: {}, fit: {}, rec: {}, evl: {}\".format(\n",
    "        rk,reg,alp,it, \n",
    "        precisionAt_k, \n",
    "        time_to_eval, time_to_fit, time_to_recommend-time_to_fit, time_to_eval-time_to_recommend \n",
    "    ), file=stats_file)\n",
    "\n",
    "    print(\"With Rank:{}, Reg:{}, Alpha:{}, Maxiter:{}, Metric: {}, time TTL: {}, fit: {}, rec: {}, evl: {}\".format(\n",
    "        rk,reg,alp,it, \n",
    "        precisionAt_k, \n",
    "        time_to_eval, time_to_fit, time_to_recommend-time_to_fit, time_to_eval-time_to_recommend \n",
    "    ))"
   ]
  },
  {
   "cell_type": "code",
   "execution_count": null,
   "metadata": {
    "colab": {
     "base_uri": "https://localhost:8080/"
    },
    "id": "BI7wYnHwKKhm",
    "outputId": "ba92b352-cc2f-4195-97f4-bc9e0694dfd3"
   },
   "outputs": [
    {
     "name": "stdout",
     "output_type": "stream",
     "text": [
      "length of params 8\n",
      "/usr/local/lib/python3.7/dist-packages/ipykernel_launcher.py -f /root/.local/share/jupyter/runtime/kernel-e5454f5f-1a37-42a9-98b2-37175efd6ed1.json\n",
      "With Rank:100, Reg:1, Alpha:1, Maxiter:5, Metric: 0.009993600000000182, time TTL: 1365.3922743797302, fit: 503.0088527202606, rec: 773.9596619606018, evl: 88.4237596988678\n"
     ]
    }
   ],
   "source": [
    "ranks = [i for i in range(100,320,30)]\n",
    "# ranks = [i for i in range(100,500,30)]\n",
    "regParams = [1] #[10**i for i in range(-2,1)   \n",
    "alphas = [1]\n",
    "maxIter = [5]\n",
    "\n",
    "params = [[a,b,c,d] for a,b,c,d in itertools.product(ranks, regParams, alphas, maxIter)]\n",
    "print('length of params',len(params))\n",
    "\n",
    "precisionAt_k_highest = 0\n",
    "stats_file = open(STATS_PATH/'stats_lenskit_{}.txt'.format(str(FRACTION).replace('.','_')), 'a', buffering=1)\n",
    "print(' '.join(sys.argv))\n",
    "print(' '.join(sys.argv), file=stats_file)\n",
    "for rk,reg,alp,it in itertools.product(ranks, regParams, alphas, maxIter):\n",
    "    since = time.time()\n",
    "    als_ext = ALS_ext.ImplicitMF(features=rk, iterations=it, reg=reg, weight=alp)\n",
    "    als_ext = Recommender.adapt(als_ext)\n",
    "\n",
    "    model_ext = als_ext.fit(train_pd)\n",
    "    time_to_fit = time.time() - since\n",
    "\n",
    "    pred_recs_tracks_val_ext = batch.recommend(model_ext, unique_user_index_val_list, TOP)\n",
    "    time_to_recommend = time.time() - since\n",
    "\n",
    "    rla = topn.RecListAnalysis()\n",
    "    rla.add_metric(topn.precision)\n",
    "    results = rla.compute(pred_recs_tracks_val_ext, val_pd)\n",
    "    precisionAt_k = results.precision.mean()\n",
    "    time_to_eval = time.time() - since\n",
    "    \n",
    "    print(\"With Rank:{}, Reg:{}, Alpha:{}, Maxiter:{}, Metric: {}, time TTL: {}, fit: {}, rec: {}, evl: {}\".format(\n",
    "        rk,reg,alp,it, \n",
    "        precisionAt_k, \n",
    "        time_to_eval, time_to_fit, time_to_recommend-time_to_fit, time_to_eval-time_to_recommend \n",
    "    ), file=stats_file)\n",
    "\n",
    "    print(\"With Rank:{}, Reg:{}, Alpha:{}, Maxiter:{}, Metric: {}, time TTL: {}, fit: {}, rec: {}, evl: {}\".format(\n",
    "        rk,reg,alp,it, \n",
    "        precisionAt_k, \n",
    "        time_to_eval, time_to_fit, time_to_recommend-time_to_fit, time_to_eval-time_to_recommend \n",
    "    ))"
   ]
  },
  {
   "cell_type": "code",
   "execution_count": null,
   "metadata": {
    "id": "x6k_wWwYu3uG"
   },
   "outputs": [],
   "source": []
  }
 ],
 "metadata": {
  "colab": {
   "collapsed_sections": [],
   "machine_shape": "hm",
   "name": "03_tune_model_lenskit.ipynb",
   "provenance": []
  },
  "kernelspec": {
   "display_name": "Python 3",
   "language": "python",
   "name": "python3"
  },
  "language_info": {
   "codemirror_mode": {
    "name": "ipython",
    "version": 3
   },
   "file_extension": ".py",
   "mimetype": "text/x-python",
   "name": "python",
   "nbconvert_exporter": "python",
   "pygments_lexer": "ipython3",
   "version": "3.7.9"
  },
  "toc": {
   "base_numbering": 1,
   "nav_menu": {},
   "number_sections": true,
   "sideBar": true,
   "skip_h1_title": false,
   "title_cell": "Table of Contents",
   "title_sidebar": "Contents",
   "toc_cell": false,
   "toc_position": {},
   "toc_section_display": true,
   "toc_window_display": false
  }
 },
 "nbformat": 4,
 "nbformat_minor": 1
}

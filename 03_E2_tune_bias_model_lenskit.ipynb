{
 "cells": [
  {
   "cell_type": "code",
   "execution_count": null,
   "metadata": {
    "pycharm": {
     "name": "#%%\n"
    }
   },
   "outputs": [],
   "source": [
    "cd <your path>"
   ]
  },
  {
   "cell_type": "markdown",
   "metadata": {
    "id": "0q6Pw0pJSBBv"
   },
   "source": [
    "# Begining"
   ]
  },
  {
   "cell_type": "markdown",
   "metadata": {
    "id": "I7v4rsrRYIp0"
   },
   "source": [
    "## Load modules"
   ]
  },
  {
   "cell_type": "code",
   "execution_count": null,
   "metadata": {
    "id": "di0517yhSBBx"
   },
   "outputs": [],
   "source": [
    "from operator import itemgetter\n",
    "import time\n",
    "import sys\n",
    "import getpass\n",
    "from pathlib import Path\n",
    "import pandas as pd\n",
    "import numpy as np\n",
    "\n",
    "import itertools"
   ]
  },
  {
   "cell_type": "markdown",
   "metadata": {
    "id": "OKUNH8c4SBBy"
   },
   "source": [
    "## Define the Parameters"
   ]
  },
  {
   "cell_type": "code",
   "execution_count": null,
   "metadata": {
    "id": "91U9WtARSBBy"
   },
   "outputs": [],
   "source": [
    "# PATH = '/scratch/work/courses/DSGA1004-2021/MSD'\n",
    "PATH = './data'\n",
    "\n",
    "STATS_PATH = Path('./saved_tuned_bias_model_stats')\n",
    "\n",
    "WHOLE_DATA = False\n",
    "FRACTION = 0.01\n",
    "TOP=500\n",
    "PREC_AT = 500"
   ]
  },
  {
   "cell_type": "markdown",
   "metadata": {
    "id": "8QsrArHHoPjw"
   },
   "source": [
    "# Load the data"
   ]
  },
  {
   "cell_type": "code",
   "execution_count": null,
   "metadata": {
    "colab": {
     "base_uri": "https://localhost:8080/"
    },
    "executionInfo": {
     "elapsed": 794,
     "status": "ok",
     "timestamp": 1620759029314,
     "user": {
      "displayName": "Di He",
      "photoUrl": "",
      "userId": "01551765020394733104"
     },
     "user_tz": 240
    },
    "id": "_hwPttUt-VfS",
    "outputId": "0fddc035-3435-4433-a155-d65d54aaa279"
   },
   "outputs": [
    {
     "name": "stdout",
     "output_type": "stream",
     "text": [
      "Successfully loaded the data\n"
     ]
    }
   ],
   "source": [
    "if WHOLE_DATA:\n",
    "    train_pd = pd.read_parquet(PATH+'/cf_train_trans.parquet')\n",
    "    unique_user_index_val_pd = pd.read_parquet(PATH+'/unique_user_index_val.parquet')\n",
    "else:\n",
    "    train_pd = pd.read_parquet(PATH+'/cf_train_trans_{}.parquet'.format(str(FRACTION).replace('.','_')))\n",
    "    unique_user_index_val_pd = pd.read_parquet(PATH+'/unique_user_index_val.parquet')\n",
    "    unique_user_index_val_pd = unique_user_index_val_pd.sample(replace=False, frac=max(FRACTION,0.05)) \n",
    "\n",
    "val_pd = pd.read_parquet(PATH+'/cf_validation_trans.parquet')\n",
    "print('Successfully loaded the data')"
   ]
  },
  {
   "cell_type": "code",
   "execution_count": null,
   "metadata": {
    "colab": {
     "base_uri": "https://localhost:8080/",
     "height": 106
    },
    "executionInfo": {
     "elapsed": 402,
     "status": "ok",
     "timestamp": 1620759029384,
     "user": {
      "displayName": "Di He",
      "photoUrl": "",
      "userId": "01551765020394733104"
     },
     "user_tz": 240
    },
    "id": "lc9LFZT6oX0A",
    "outputId": "635d8f29-b398-4a3e-d930-8a101056f252"
   },
   "outputs": [
    {
     "data": {
      "text/html": [
       "<div>\n",
       "<style scoped>\n",
       "    .dataframe tbody tr th:only-of-type {\n",
       "        vertical-align: middle;\n",
       "    }\n",
       "\n",
       "    .dataframe tbody tr th {\n",
       "        vertical-align: top;\n",
       "    }\n",
       "\n",
       "    .dataframe thead th {\n",
       "        text-align: right;\n",
       "    }\n",
       "</style>\n",
       "<table border=\"1\" class=\"dataframe\">\n",
       "  <thead>\n",
       "    <tr style=\"text-align: right;\">\n",
       "      <th></th>\n",
       "      <th>user_id</th>\n",
       "      <th>rating</th>\n",
       "      <th>track_id</th>\n",
       "      <th>__index_level_0__</th>\n",
       "      <th>user</th>\n",
       "      <th>item</th>\n",
       "    </tr>\n",
       "  </thead>\n",
       "  <tbody>\n",
       "    <tr>\n",
       "      <th>0</th>\n",
       "      <td>c2934b29d64e467297c608351ed9695ce62128bc</td>\n",
       "      <td>2</td>\n",
       "      <td>TRAUAQB128F92D2DE9</td>\n",
       "      <td>2055</td>\n",
       "      <td>857987</td>\n",
       "      <td>11485</td>\n",
       "    </tr>\n",
       "    <tr>\n",
       "      <th>1</th>\n",
       "      <td>c2934b29d64e467297c608351ed9695ce62128bc</td>\n",
       "      <td>1</td>\n",
       "      <td>TRNZIAP128F93437BF</td>\n",
       "      <td>2056</td>\n",
       "      <td>857987</td>\n",
       "      <td>207539</td>\n",
       "    </tr>\n",
       "  </tbody>\n",
       "</table>\n",
       "</div>"
      ],
      "text/plain": [
       "                                    user_id  rating  ...    user    item\n",
       "0  c2934b29d64e467297c608351ed9695ce62128bc       2  ...  857987   11485\n",
       "1  c2934b29d64e467297c608351ed9695ce62128bc       1  ...  857987  207539\n",
       "\n",
       "[2 rows x 6 columns]"
      ]
     },
     "execution_count": 39,
     "metadata": {
      "tags": []
     },
     "output_type": "execute_result"
    }
   ],
   "source": [
    "train_pd.rename(columns={'user_index':'user','track_index':'item','count':'rating'}, inplace=True)\n",
    "train_pd.head(2)"
   ]
  },
  {
   "cell_type": "code",
   "execution_count": null,
   "metadata": {
    "id": "YVwjPLdwrRWo"
   },
   "outputs": [],
   "source": [
    "# unique_user_index_val_pd = unique_user_index_val.toPandas()\n",
    "unique_user_index_val_pd = np.array(unique_user_index_val_pd.values.tolist())\n",
    "unique_user_index_val_list = list(unique_user_index_val_pd.reshape(-1))"
   ]
  },
  {
   "cell_type": "code",
   "execution_count": null,
   "metadata": {
    "colab": {
     "base_uri": "https://localhost:8080/",
     "height": 106
    },
    "executionInfo": {
     "elapsed": 318,
     "status": "ok",
     "timestamp": 1620759031356,
     "user": {
      "displayName": "Di He",
      "photoUrl": "",
      "userId": "01551765020394733104"
     },
     "user_tz": 240
    },
    "id": "6WwiO-SR_0p_",
    "outputId": "eae235c9-eb97-48ba-94f1-32312f62a3d4"
   },
   "outputs": [
    {
     "data": {
      "text/html": [
       "<div>\n",
       "<style scoped>\n",
       "    .dataframe tbody tr th:only-of-type {\n",
       "        vertical-align: middle;\n",
       "    }\n",
       "\n",
       "    .dataframe tbody tr th {\n",
       "        vertical-align: top;\n",
       "    }\n",
       "\n",
       "    .dataframe thead th {\n",
       "        text-align: right;\n",
       "    }\n",
       "</style>\n",
       "<table border=\"1\" class=\"dataframe\">\n",
       "  <thead>\n",
       "    <tr style=\"text-align: right;\">\n",
       "      <th></th>\n",
       "      <th>user_id</th>\n",
       "      <th>rating</th>\n",
       "      <th>track_id</th>\n",
       "      <th>__index_level_0__</th>\n",
       "      <th>user</th>\n",
       "      <th>item</th>\n",
       "    </tr>\n",
       "  </thead>\n",
       "  <tbody>\n",
       "    <tr>\n",
       "      <th>0</th>\n",
       "      <td>0007140a3796e901f3190f12e9de6d7548d4ac4a</td>\n",
       "      <td>1</td>\n",
       "      <td>TRUFCYO128F422B898</td>\n",
       "      <td>0</td>\n",
       "      <td>109</td>\n",
       "      <td>300356</td>\n",
       "    </tr>\n",
       "    <tr>\n",
       "      <th>1</th>\n",
       "      <td>0007140a3796e901f3190f12e9de6d7548d4ac4a</td>\n",
       "      <td>2</td>\n",
       "      <td>TROBZPR128F14808FF</td>\n",
       "      <td>1</td>\n",
       "      <td>109</td>\n",
       "      <td>209116</td>\n",
       "    </tr>\n",
       "  </tbody>\n",
       "</table>\n",
       "</div>"
      ],
      "text/plain": [
       "                                    user_id  rating  ... user    item\n",
       "0  0007140a3796e901f3190f12e9de6d7548d4ac4a       1  ...  109  300356\n",
       "1  0007140a3796e901f3190f12e9de6d7548d4ac4a       2  ...  109  209116\n",
       "\n",
       "[2 rows x 6 columns]"
      ]
     },
     "execution_count": 41,
     "metadata": {
      "tags": []
     },
     "output_type": "execute_result"
    }
   ],
   "source": [
    "# val_pd = val.toPandas()\n",
    "val_pd.rename(columns={'user_index':'user','track_index':'item','count':'rating'}, inplace=True)\n",
    "val_pd.head(2)"
   ]
  },
  {
   "cell_type": "markdown",
   "metadata": {
    "id": "OCsPoFDelOSv"
   },
   "source": [
    "# ALS Model lenskit"
   ]
  },
  {
   "cell_type": "code",
   "execution_count": null,
   "metadata": {
    "id": "ehaENWf-lQp8"
   },
   "outputs": [],
   "source": [
    "# ! pip install lenskit"
   ]
  },
  {
   "cell_type": "code",
   "execution_count": null,
   "metadata": {
    "id": "n-g-b_FWlTW-"
   },
   "outputs": [],
   "source": [
    "from lenskit.algorithms import bias\n",
    "from lenskit.algorithms import Recommender, item_knn\n",
    "from lenskit import batch, topn, util"
   ]
  },
  {
   "cell_type": "code",
   "execution_count": null,
   "metadata": {
    "colab": {
     "base_uri": "https://localhost:8080/"
    },
    "executionInfo": {
     "elapsed": 114683,
     "status": "ok",
     "timestamp": 1620759148721,
     "user": {
      "displayName": "Di He",
      "photoUrl": "",
      "userId": "01551765020394733104"
     },
     "user_tz": 240
    },
    "id": "7WuldDz2AhUs",
    "outputId": "d75db5c9-763f-4689-ee74-5938ecf2755f"
   },
   "outputs": [
    {
     "name": "stdout",
     "output_type": "stream",
     "text": [
      "length of params 3\n",
      "/usr/local/lib/python3.7/dist-packages/ipykernel_launcher.py -f /root/.local/share/jupyter/runtime/kernel-12952f01-c776-45f6-9c41-6b3ebe2e4319.json\n",
      "items:True, users:False, damping:10000000, Metric: 0.002708000000000002, time TTL: 38.73024272918701, fit: 0.28790998458862305, rec: 9.279690265655518, evl: 29.16264247894287\n",
      "items:True, users:False, damping:100000000, Metric: 0.002708000000000002, time TTL: 38.14877724647522, fit: 0.2864866256713867, rec: 9.291252374649048, evl: 28.571038246154785\n",
      "items:True, users:False, damping:1000000000, Metric: 0.002708000000000002, time TTL: 37.435462951660156, fit: 0.24057459831237793, rec: 8.631808757781982, evl: 28.563079595565796\n"
     ]
    }
   ],
   "source": [
    "items=[True]\n",
    "users=[False]\n",
    "damping = [10**i for i in range(-1,10)]   \n",
    "\n",
    "params = [[a,b,c] for a,b,c in itertools.product(items, users, damping)]\n",
    "# params.append([False, False, 0.0])\n",
    "print('length of params',len(params))\n",
    "\n",
    "stats_file = open(STATS_PATH/'stats_lenskit_{}.txt'.format(str(FRACTION).replace('.','_')), 'a', buffering=1)\n",
    "print(' '.join(sys.argv))\n",
    "print(' '.join(sys.argv), file=stats_file)\n",
    "\n",
    "for items, users, damping in params:\n",
    "    since = time.time()\n",
    "    baseline_bias = bias.Bias(items=items, users=users, damping=damping)\n",
    "    baseline_bias = Recommender.adapt(baseline_bias)\n",
    "\n",
    "    model_bias = baseline_bias.fit(train_pd)\n",
    "    time_to_fit = time.time() - since\n",
    "\n",
    "    pred_recs_tracks_val_ext = batch.recommend(model_bias, unique_user_index_val_list, TOP)\n",
    "    time_to_recommend = time.time() - since\n",
    "\n",
    "    rla = topn.RecListAnalysis()\n",
    "    rla.add_metric(topn.precision)\n",
    "    results = rla.compute(pred_recs_tracks_val_ext, val_pd)\n",
    "    precisionAt_k = results.precision.mean()\n",
    "    time_to_eval = time.time() - since\n",
    "    \n",
    "    print(\"items:{}, users:{}, damping:{}, Metric: {}, time TTL: {}, fit: {}, rec: {}, evl: {}\".format(\n",
    "        items,users,damping,\n",
    "        precisionAt_k, \n",
    "        time_to_eval, time_to_fit, time_to_recommend-time_to_fit, time_to_eval-time_to_recommend \n",
    "    ), file=stats_file)\n",
    "\n",
    "    print(\"items:{}, users:{}, damping:{}, Metric: {}, time TTL: {}, fit: {}, rec: {}, evl: {}\".format(\n",
    "        items,users,damping,\n",
    "        precisionAt_k, \n",
    "        time_to_eval, time_to_fit, time_to_recommend-time_to_fit, time_to_eval-time_to_recommend \n",
    "    ))\n"
   ]
  },
  {
   "cell_type": "code",
   "execution_count": null,
   "metadata": {
    "id": "L64lmCQO-TxE"
   },
   "outputs": [],
   "source": []
  }
 ],
 "metadata": {
  "colab": {
   "collapsed_sections": [],
   "machine_shape": "hm",
   "name": "03_E2_tune_bias_model_lenskit.ipynb",
   "provenance": []
  },
  "kernelspec": {
   "display_name": "Python 3",
   "language": "python",
   "name": "python3"
  },
  "language_info": {
   "codemirror_mode": {
    "name": "ipython",
    "version": 3
   },
   "file_extension": ".py",
   "mimetype": "text/x-python",
   "name": "python",
   "nbconvert_exporter": "python",
   "pygments_lexer": "ipython3",
   "version": "3.7.9"
  },
  "toc": {
   "base_numbering": 1,
   "nav_menu": {},
   "number_sections": true,
   "sideBar": true,
   "skip_h1_title": false,
   "title_cell": "Table of Contents",
   "title_sidebar": "Contents",
   "toc_cell": false,
   "toc_position": {},
   "toc_section_display": true,
   "toc_window_display": false
  }
 },
 "nbformat": 4,
 "nbformat_minor": 1
}

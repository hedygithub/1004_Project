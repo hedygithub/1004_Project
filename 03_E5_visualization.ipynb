{
 "cells": [
  {
   "cell_type": "code",
   "execution_count": null,
   "metadata": {
    "colab": {
     "base_uri": "https://localhost:8080/"
    },
    "executionInfo": {
     "elapsed": 17530,
     "status": "ok",
     "timestamp": 1621131510062,
     "user": {
      "displayName": "Di He",
      "photoUrl": "",
      "userId": "01551765020394733104"
     },
     "user_tz": 240
    },
    "id": "qupV8t07E5aM",
    "outputId": "8918ca52-fb74-46d3-9fbc-b4ffaffa4b2d"
   },
   "outputs": [
    {
     "name": "stdout",
     "output_type": "stream",
     "text": [
      "Mounted at /content/drive\n"
     ]
    }
   ],
   "source": [
    "cd <your path>"
   ]
  },
  {
   "cell_type": "markdown",
   "metadata": {
    "id": "QouUR_DyG4DG"
   },
   "source": [
    "# Begining"
   ]
  },
  {
   "cell_type": "markdown",
   "metadata": {
    "id": "pwYiGvOyG5jX"
   },
   "source": [
    "## Load Modules"
   ]
  },
  {
   "cell_type": "code",
   "execution_count": null,
   "metadata": {
    "colab": {
     "base_uri": "https://localhost:8080/"
    },
    "executionInfo": {
     "elapsed": 39756,
     "status": "ok",
     "timestamp": 1621131569919,
     "user": {
      "displayName": "Di He",
      "photoUrl": "",
      "userId": "01551765020394733104"
     },
     "user_tz": 240
    },
    "id": "OZ1frndAE1BM",
    "outputId": "cd2fb3f2-410e-4d36-94c9-0a9cb57cf540"
   },
   "outputs": [
    {
     "name": "stdout",
     "output_type": "stream",
     "text": [
      "Collecting pyspark\n",
      "\u001b[?25l  Downloading https://files.pythonhosted.org/packages/45/b0/9d6860891ab14a39d4bddf80ba26ce51c2f9dc4805e5c6978ac0472c120a/pyspark-3.1.1.tar.gz (212.3MB)\n",
      "\u001b[K     |████████████████████████████████| 212.3MB 67kB/s \n",
      "\u001b[?25hCollecting py4j==0.10.9\n",
      "\u001b[?25l  Downloading https://files.pythonhosted.org/packages/9e/b6/6a4fb90cd235dc8e265a6a2067f2a2c99f0d91787f06aca4bcf7c23f3f80/py4j-0.10.9-py2.py3-none-any.whl (198kB)\n",
      "\u001b[K     |████████████████████████████████| 204kB 18.2MB/s \n",
      "\u001b[?25hBuilding wheels for collected packages: pyspark\n",
      "  Building wheel for pyspark (setup.py) ... \u001b[?25l\u001b[?25hdone\n",
      "  Created wheel for pyspark: filename=pyspark-3.1.1-py2.py3-none-any.whl size=212767604 sha256=fa885e6795ba2d009ef16f920c5464b39b817cc4d9e8550b762a2fb8a6828886\n",
      "  Stored in directory: /root/.cache/pip/wheels/0b/90/c0/01de724414ef122bd05f056541fb6a0ecf47c7ca655f8b3c0f\n",
      "Successfully built pyspark\n",
      "Installing collected packages: py4j, pyspark\n",
      "Successfully installed py4j-0.10.9 pyspark-3.1.1\n"
     ]
    }
   ],
   "source": [
    "! pip install pyspark"
   ]
  },
  {
   "cell_type": "code",
   "execution_count": null,
   "metadata": {
    "colab": {
     "base_uri": "https://localhost:8080/"
    },
    "executionInfo": {
     "elapsed": 50574,
     "status": "ok",
     "timestamp": 1621131581564,
     "user": {
      "displayName": "Di He",
      "photoUrl": "",
      "userId": "01551765020394733104"
     },
     "user_tz": 240
    },
    "id": "fs64SgDZF8oy",
    "outputId": "ecf44df9-db10-46d6-9070-58a98dcaa34d"
   },
   "outputs": [
    {
     "name": "stdout",
     "output_type": "stream",
     "text": [
      "Collecting umap-learn[plot]\n",
      "\u001b[?25l  Downloading https://files.pythonhosted.org/packages/75/69/85e7f950bb75792ad5d666d86c5f3e62eedbb942848e7e3126513af9999c/umap-learn-0.5.1.tar.gz (80kB)\n",
      "\u001b[K     |████████████████████████████████| 81kB 4.4MB/s \n",
      "\u001b[?25hRequirement already satisfied: numpy>=1.17 in /usr/local/lib/python3.7/dist-packages (from umap-learn[plot]) (1.19.5)\n",
      "Requirement already satisfied: scikit-learn>=0.22 in /usr/local/lib/python3.7/dist-packages (from umap-learn[plot]) (0.22.2.post1)\n",
      "Requirement already satisfied: scipy>=1.0 in /usr/local/lib/python3.7/dist-packages (from umap-learn[plot]) (1.4.1)\n",
      "Requirement already satisfied: numba>=0.49 in /usr/local/lib/python3.7/dist-packages (from umap-learn[plot]) (0.51.2)\n",
      "Collecting pynndescent>=0.5\n",
      "\u001b[?25l  Downloading https://files.pythonhosted.org/packages/af/65/8189298dd3a05bbad716ee8e249764ff8800e365d8dc652ad2192ca01b4a/pynndescent-0.5.2.tar.gz (1.1MB)\n",
      "\u001b[K     |████████████████████████████████| 1.2MB 13.3MB/s \n",
      "\u001b[?25hRequirement already satisfied: pandas in /usr/local/lib/python3.7/dist-packages (from umap-learn[plot]) (1.1.5)\n",
      "Requirement already satisfied: matplotlib in /usr/local/lib/python3.7/dist-packages (from umap-learn[plot]) (3.2.2)\n",
      "Collecting datashader\n",
      "\u001b[?25l  Downloading https://files.pythonhosted.org/packages/df/24/22f96084785d9cc424f1e70541a2803eec807c82e6bdab87c4b71fd96d10/datashader-0.12.1-py2.py3-none-any.whl (15.8MB)\n",
      "\u001b[K     |████████████████████████████████| 15.8MB 401kB/s \n",
      "\u001b[?25hRequirement already satisfied: bokeh in /usr/local/lib/python3.7/dist-packages (from umap-learn[plot]) (2.3.2)\n",
      "Requirement already satisfied: holoviews in /usr/local/lib/python3.7/dist-packages (from umap-learn[plot]) (1.14.3)\n",
      "Requirement already satisfied: colorcet in /usr/local/lib/python3.7/dist-packages (from umap-learn[plot]) (2.0.6)\n",
      "Requirement already satisfied: seaborn in /usr/local/lib/python3.7/dist-packages (from umap-learn[plot]) (0.11.1)\n",
      "Requirement already satisfied: scikit-image in /usr/local/lib/python3.7/dist-packages (from umap-learn[plot]) (0.16.2)\n",
      "Requirement already satisfied: joblib>=0.11 in /usr/local/lib/python3.7/dist-packages (from scikit-learn>=0.22->umap-learn[plot]) (1.0.1)\n",
      "Requirement already satisfied: llvmlite<0.35,>=0.34.0.dev0 in /usr/local/lib/python3.7/dist-packages (from numba>=0.49->umap-learn[plot]) (0.34.0)\n",
      "Requirement already satisfied: setuptools in /usr/local/lib/python3.7/dist-packages (from numba>=0.49->umap-learn[plot]) (56.1.0)\n",
      "Requirement already satisfied: python-dateutil>=2.7.3 in /usr/local/lib/python3.7/dist-packages (from pandas->umap-learn[plot]) (2.8.1)\n",
      "Requirement already satisfied: pytz>=2017.2 in /usr/local/lib/python3.7/dist-packages (from pandas->umap-learn[plot]) (2018.9)\n",
      "Requirement already satisfied: pyparsing!=2.0.4,!=2.1.2,!=2.1.6,>=2.0.1 in /usr/local/lib/python3.7/dist-packages (from matplotlib->umap-learn[plot]) (2.4.7)\n",
      "Requirement already satisfied: kiwisolver>=1.0.1 in /usr/local/lib/python3.7/dist-packages (from matplotlib->umap-learn[plot]) (1.3.1)\n",
      "Requirement already satisfied: cycler>=0.10 in /usr/local/lib/python3.7/dist-packages (from matplotlib->umap-learn[plot]) (0.10.0)\n",
      "Requirement already satisfied: pyct>=0.4.4 in /usr/local/lib/python3.7/dist-packages (from datashader->umap-learn[plot]) (0.4.8)\n",
      "Requirement already satisfied: toolz>=0.7.4 in /usr/local/lib/python3.7/dist-packages (from datashader->umap-learn[plot]) (0.11.1)\n",
      "Collecting datashape>=0.5.1\n",
      "\u001b[?25l  Downloading https://files.pythonhosted.org/packages/a6/5b/95b2ed56b61e649b69c9a5b1ecb32ff0a5cd68b9f69f5aa7774540e6b444/datashape-0.5.2.tar.gz (76kB)\n",
      "\u001b[K     |████████████████████████████████| 81kB 8.9MB/s \n",
      "\u001b[?25hRequirement already satisfied: pillow>=3.1.1 in /usr/local/lib/python3.7/dist-packages (from datashader->umap-learn[plot]) (7.1.2)\n",
      "Requirement already satisfied: xarray>=0.9.6 in /usr/local/lib/python3.7/dist-packages (from datashader->umap-learn[plot]) (0.18.0)\n",
      "Requirement already satisfied: dask[complete]>=0.18.0 in /usr/local/lib/python3.7/dist-packages (from datashader->umap-learn[plot]) (2.12.0)\n",
      "Requirement already satisfied: param>=1.6.0 in /usr/local/lib/python3.7/dist-packages (from datashader->umap-learn[plot]) (1.10.1)\n",
      "Requirement already satisfied: typing-extensions>=3.7.4 in /usr/local/lib/python3.7/dist-packages (from bokeh->umap-learn[plot]) (3.7.4.3)\n",
      "Requirement already satisfied: packaging>=16.8 in /usr/local/lib/python3.7/dist-packages (from bokeh->umap-learn[plot]) (20.9)\n",
      "Requirement already satisfied: Jinja2>=2.9 in /usr/local/lib/python3.7/dist-packages (from bokeh->umap-learn[plot]) (2.11.3)\n",
      "Requirement already satisfied: PyYAML>=3.10 in /usr/local/lib/python3.7/dist-packages (from bokeh->umap-learn[plot]) (3.13)\n",
      "Requirement already satisfied: tornado>=5.1 in /usr/local/lib/python3.7/dist-packages (from bokeh->umap-learn[plot]) (5.1.1)\n",
      "Requirement already satisfied: panel>=0.8.0 in /usr/local/lib/python3.7/dist-packages (from holoviews->umap-learn[plot]) (0.11.3)\n",
      "Requirement already satisfied: pyviz-comms>=0.7.4 in /usr/local/lib/python3.7/dist-packages (from holoviews->umap-learn[plot]) (2.0.1)\n",
      "Requirement already satisfied: networkx>=2.0 in /usr/local/lib/python3.7/dist-packages (from scikit-image->umap-learn[plot]) (2.5.1)\n",
      "Requirement already satisfied: PyWavelets>=0.4.0 in /usr/local/lib/python3.7/dist-packages (from scikit-image->umap-learn[plot]) (1.1.1)\n",
      "Requirement already satisfied: imageio>=2.3.0 in /usr/local/lib/python3.7/dist-packages (from scikit-image->umap-learn[plot]) (2.4.1)\n",
      "Requirement already satisfied: six>=1.5 in /usr/local/lib/python3.7/dist-packages (from python-dateutil>=2.7.3->pandas->umap-learn[plot]) (1.15.0)\n",
      "Collecting multipledispatch>=0.4.7\n",
      "  Downloading https://files.pythonhosted.org/packages/89/79/429ecef45fd5e4504f7474d4c3c3c4668c267be3370e4c2fd33e61506833/multipledispatch-0.6.0-py3-none-any.whl\n",
      "Collecting distributed>=2.0; extra == \"complete\"\n",
      "\u001b[?25l  Downloading https://files.pythonhosted.org/packages/6b/be/e150dfcdceb22ac1a15ed6ab03268bd760b59cce6b6d4e584454efd8ca8c/distributed-2021.5.0-py3-none-any.whl (699kB)\n",
      "\u001b[K     |████████████████████████████████| 706kB 34.4MB/s \n",
      "\u001b[?25hCollecting fsspec>=0.6.0; extra == \"complete\"\n",
      "\u001b[?25l  Downloading https://files.pythonhosted.org/packages/bc/52/816d1a3a599176057bf29dfacb1f8fadb61d35fbd96cb1bab4aaa7df83c0/fsspec-2021.5.0-py3-none-any.whl (111kB)\n",
      "\u001b[K     |████████████████████████████████| 112kB 53.0MB/s \n",
      "\u001b[?25hRequirement already satisfied: cloudpickle>=0.2.1; extra == \"complete\" in /usr/local/lib/python3.7/dist-packages (from dask[complete]>=0.18.0->datashader->umap-learn[plot]) (1.3.0)\n",
      "Collecting partd>=0.3.10; extra == \"complete\"\n",
      "  Downloading https://files.pythonhosted.org/packages/41/94/360258a68b55f47859d72b2d0b2b3cfe0ca4fbbcb81b78812bd00ae86b7c/partd-1.2.0-py3-none-any.whl\n",
      "Requirement already satisfied: MarkupSafe>=0.23 in /usr/local/lib/python3.7/dist-packages (from Jinja2>=2.9->bokeh->umap-learn[plot]) (2.0.0)\n",
      "Requirement already satisfied: tqdm in /usr/local/lib/python3.7/dist-packages (from panel>=0.8.0->holoviews->umap-learn[plot]) (4.41.1)\n",
      "Requirement already satisfied: markdown in /usr/local/lib/python3.7/dist-packages (from panel>=0.8.0->holoviews->umap-learn[plot]) (3.3.4)\n",
      "Requirement already satisfied: requests in /usr/local/lib/python3.7/dist-packages (from panel>=0.8.0->holoviews->umap-learn[plot]) (2.23.0)\n",
      "Requirement already satisfied: decorator<5,>=4.3 in /usr/local/lib/python3.7/dist-packages (from networkx>=2.0->scikit-image->umap-learn[plot]) (4.4.2)\n",
      "Requirement already satisfied: psutil>=5.0 in /usr/local/lib/python3.7/dist-packages (from distributed>=2.0; extra == \"complete\"->dask[complete]>=0.18.0->datashader->umap-learn[plot]) (5.4.8)\n",
      "Requirement already satisfied: sortedcontainers!=2.0.0,!=2.0.1 in /usr/local/lib/python3.7/dist-packages (from distributed>=2.0; extra == \"complete\"->dask[complete]>=0.18.0->datashader->umap-learn[plot]) (2.3.0)\n",
      "Requirement already satisfied: click>=6.6 in /usr/local/lib/python3.7/dist-packages (from distributed>=2.0; extra == \"complete\"->dask[complete]>=0.18.0->datashader->umap-learn[plot]) (8.0.0)\n",
      "Requirement already satisfied: tblib>=1.6.0 in /usr/local/lib/python3.7/dist-packages (from distributed>=2.0; extra == \"complete\"->dask[complete]>=0.18.0->datashader->umap-learn[plot]) (1.7.0)\n",
      "Requirement already satisfied: msgpack>=0.6.0 in /usr/local/lib/python3.7/dist-packages (from distributed>=2.0; extra == \"complete\"->dask[complete]>=0.18.0->datashader->umap-learn[plot]) (1.0.2)\n",
      "Requirement already satisfied: zict>=0.1.3 in /usr/local/lib/python3.7/dist-packages (from distributed>=2.0; extra == \"complete\"->dask[complete]>=0.18.0->datashader->umap-learn[plot]) (2.0.0)\n",
      "Collecting locket\n",
      "  Downloading https://files.pythonhosted.org/packages/50/b8/e789e45b9b9c2db75e9d9e6ceb022c8d1d7e49b2c085ce8c05600f90a96b/locket-0.2.1-py2.py3-none-any.whl\n",
      "Requirement already satisfied: importlib-metadata; python_version < \"3.8\" in /usr/local/lib/python3.7/dist-packages (from markdown->panel>=0.8.0->holoviews->umap-learn[plot]) (4.0.1)\n",
      "Requirement already satisfied: urllib3!=1.25.0,!=1.25.1,<1.26,>=1.21.1 in /usr/local/lib/python3.7/dist-packages (from requests->panel>=0.8.0->holoviews->umap-learn[plot]) (1.24.3)\n",
      "Requirement already satisfied: chardet<4,>=3.0.2 in /usr/local/lib/python3.7/dist-packages (from requests->panel>=0.8.0->holoviews->umap-learn[plot]) (3.0.4)\n",
      "Requirement already satisfied: certifi>=2017.4.17 in /usr/local/lib/python3.7/dist-packages (from requests->panel>=0.8.0->holoviews->umap-learn[plot]) (2020.12.5)\n",
      "Requirement already satisfied: idna<3,>=2.5 in /usr/local/lib/python3.7/dist-packages (from requests->panel>=0.8.0->holoviews->umap-learn[plot]) (2.10)\n",
      "Requirement already satisfied: heapdict in /usr/local/lib/python3.7/dist-packages (from zict>=0.1.3->distributed>=2.0; extra == \"complete\"->dask[complete]>=0.18.0->datashader->umap-learn[plot]) (1.0.1)\n",
      "Requirement already satisfied: zipp>=0.5 in /usr/local/lib/python3.7/dist-packages (from importlib-metadata; python_version < \"3.8\"->markdown->panel>=0.8.0->holoviews->umap-learn[plot]) (3.4.1)\n",
      "Building wheels for collected packages: umap-learn, pynndescent, datashape\n",
      "  Building wheel for umap-learn (setup.py) ... \u001b[?25l\u001b[?25hdone\n",
      "  Created wheel for umap-learn: filename=umap_learn-0.5.1-cp37-none-any.whl size=76569 sha256=215fb502cb725a8c44bc0ab524ead27fe11e743b098b4c80f17fa9354456ea03\n",
      "  Stored in directory: /root/.cache/pip/wheels/ad/df/d5/a3691296ff779f25cd1cf415a3af954b987fb53111e3392cf4\n",
      "  Building wheel for pynndescent (setup.py) ... \u001b[?25l\u001b[?25hdone\n",
      "  Created wheel for pynndescent: filename=pynndescent-0.5.2-cp37-none-any.whl size=51351 sha256=e3046ff98fca3f5b9d8ea5f999399a36f569cc00e406af9d047e31d843c85924\n",
      "  Stored in directory: /root/.cache/pip/wheels/ba/52/4e/4c28d04d144a28f89e2575fb63628df6e6d49b56c5ddd0c74e\n",
      "  Building wheel for datashape (setup.py) ... \u001b[?25l\u001b[?25hdone\n",
      "  Created wheel for datashape: filename=datashape-0.5.2-cp37-none-any.whl size=59430 sha256=4dd74fdb4c1c139f81532bbeffbde7f1bc8fcafec709a266df598a28c5fbf324\n",
      "  Stored in directory: /root/.cache/pip/wheels/8d/06/05/c1cba3d57bdcfd3960e3f60a9fdc97e4baef2ef09af0ad1ef8\n",
      "Successfully built umap-learn pynndescent datashape\n",
      "\u001b[31mERROR: distributed 2021.5.0 has requirement cloudpickle>=1.5.0, but you'll have cloudpickle 1.3.0 which is incompatible.\u001b[0m\n",
      "\u001b[31mERROR: distributed 2021.5.0 has requirement dask==2021.05.0, but you'll have dask 2.12.0 which is incompatible.\u001b[0m\n",
      "Installing collected packages: pynndescent, multipledispatch, datashape, datashader, umap-learn, distributed, fsspec, locket, partd\n",
      "  Found existing installation: distributed 1.25.3\n",
      "    Uninstalling distributed-1.25.3:\n",
      "      Successfully uninstalled distributed-1.25.3\n",
      "Successfully installed datashader-0.12.1 datashape-0.5.2 distributed-2021.5.0 fsspec-2021.5.0 locket-0.2.1 multipledispatch-0.6.0 partd-1.2.0 pynndescent-0.5.2 umap-learn-0.5.1\n"
     ]
    }
   ],
   "source": [
    "# ! pip uninstall umap\n",
    "! pip install umap-learn[plot]"
   ]
  },
  {
   "cell_type": "code",
   "execution_count": null,
   "metadata": {
    "id": "a7e22885"
   },
   "outputs": [],
   "source": [
    "from pyspark.sql import SparkSession\n",
    "from pyspark.ml.recommendation import ALS, ALSModel\n",
    "from pyspark import StorageLevel\n",
    "\n",
    "import sqlite3\n",
    "\n",
    "import os\n",
    "import numpy as np\n",
    "import pandas as pd\n",
    "import matplotlib.pyplot as plt\n",
    "import umap.umap_ as umap\n",
    "import umap.plot"
   ]
  },
  {
   "cell_type": "markdown",
   "metadata": {
    "id": "shs2GcQYG1Gv"
   },
   "source": [
    "## Set Parameters"
   ]
  },
  {
   "cell_type": "code",
   "execution_count": null,
   "metadata": {
    "id": "Xx4hB8CiGHVj"
   },
   "outputs": [],
   "source": [
    "PATH = './data'\n",
    "FRACTION = 1.00\n",
    "MODEL_PATH = 'saved_tuned_best_model_{}'.format(str(FRACTION).replace('.','_'))\n",
    "\n",
    "N_TRACKS = 4000\n",
    "\n",
    "MAX_MEMORY = \"4g\"\n",
    "spark = SparkSession \\\n",
    "    .builder \\\n",
    "    .appName('quq') \\\n",
    "    .config(\"spark.executor.memory\", MAX_MEMORY) \\\n",
    "    .config(\"spark.driver.memory\", MAX_MEMORY) \\\n",
    "    .getOrCreate()"
   ]
  },
  {
   "cell_type": "markdown",
   "metadata": {
    "id": "tLWPQ7mfGuEU"
   },
   "source": [
    "# Load Data"
   ]
  },
  {
   "cell_type": "markdown",
   "metadata": {
    "id": "30d2a0ca"
   },
   "source": [
    "## Read track encoding [parquet]"
   ]
  },
  {
   "cell_type": "code",
   "execution_count": null,
   "metadata": {
    "colab": {
     "base_uri": "https://localhost:8080/",
     "height": 106
    },
    "executionInfo": {
     "elapsed": 141032,
     "status": "ok",
     "timestamp": 1621131680106,
     "user": {
      "displayName": "Di He",
      "photoUrl": "",
      "userId": "01551765020394733104"
     },
     "user_tz": 240
    },
    "id": "9H8x-pwT9bKv",
    "outputId": "d8d0e1c4-0748-40b4-8195-a707d7c62a4f"
   },
   "outputs": [
    {
     "data": {
      "text/html": [
       "<div>\n",
       "<style scoped>\n",
       "    .dataframe tbody tr th:only-of-type {\n",
       "        vertical-align: middle;\n",
       "    }\n",
       "\n",
       "    .dataframe tbody tr th {\n",
       "        vertical-align: top;\n",
       "    }\n",
       "\n",
       "    .dataframe thead th {\n",
       "        text-align: right;\n",
       "    }\n",
       "</style>\n",
       "<table border=\"1\" class=\"dataframe\">\n",
       "  <thead>\n",
       "    <tr style=\"text-align: right;\">\n",
       "      <th></th>\n",
       "      <th>track_id</th>\n",
       "      <th>track_index</th>\n",
       "    </tr>\n",
       "  </thead>\n",
       "  <tbody>\n",
       "    <tr>\n",
       "      <th>0</th>\n",
       "      <td>TRLQPQJ128F42AA94F</td>\n",
       "      <td>172509</td>\n",
       "    </tr>\n",
       "    <tr>\n",
       "      <th>1</th>\n",
       "      <td>TRDNHAW128F429DB9A</td>\n",
       "      <td>51813</td>\n",
       "    </tr>\n",
       "  </tbody>\n",
       "</table>\n",
       "</div>"
      ],
      "text/plain": [
       "             track_id  track_index\n",
       "0  TRLQPQJ128F42AA94F       172509\n",
       "1  TRDNHAW128F429DB9A        51813"
      ]
     },
     "execution_count": 11,
     "metadata": {
      "tags": []
     },
     "output_type": "execute_result"
    }
   ],
   "source": [
    "track_encoding = pd.read_parquet(PATH+'/track_encoding.parquet')\n",
    "track_encoding.head(2)"
   ]
  },
  {
   "cell_type": "markdown",
   "metadata": {
    "id": "d542b5d9"
   },
   "source": [
    "## Get track and its tag from song table & artist table [db]"
   ]
  },
  {
   "cell_type": "markdown",
   "metadata": {
    "id": "hqYfLAbbHuSb"
   },
   "source": [
    "### Look at all db and find tables"
   ]
  },
  {
   "cell_type": "code",
   "execution_count": null,
   "metadata": {
    "colab": {
     "base_uri": "https://localhost:8080/"
    },
    "executionInfo": {
     "elapsed": 140554,
     "status": "ok",
     "timestamp": 1621131684457,
     "user": {
      "displayName": "Di He",
      "photoUrl": "",
      "userId": "01551765020394733104"
     },
     "user_tz": 240
    },
    "id": "48948fdb",
    "outputId": "05bc59d3-cfbe-4045-dfcb-06354506eb49"
   },
   "outputs": [
    {
     "name": "stdout",
     "output_type": "stream",
     "text": [
      "[('songs',)]\n",
      "[('lyrics',), ('words',)]\n",
      "[('artists',), ('similarity',)]\n",
      "[('artist_mbtag',), ('artist_term',), ('artists',), ('mbtags',), ('terms',)]\n",
      "[('tags',), ('tid_tag',), ('tids',)]\n"
     ]
    }
   ],
   "source": [
    "db_list = [PATH+'/data_extension/track_metadata.db', \n",
    "           PATH+'/data_extension/mxm_dataset.db', \n",
    "           PATH+'/data_extension/artist_similarity.db', \n",
    "           PATH+'/data_extension/artist_term.db', \n",
    "           PATH+'/data_extension/lastfm_tags.db']\n",
    "\n",
    "for db_file in db_list:\n",
    "    con = sqlite3.connect(db_file)\n",
    "    cursor = con.cursor()\n",
    "\n",
    "    sql = \"\"\"\n",
    "            SELECT name FROM sqlite_master\n",
    "            WHERE type='table'\n",
    "            ORDER BY name;\n",
    "            \"\"\"\n",
    "    cursor.execute(sql)\n",
    "    print(cursor.fetchall())\n"
   ]
  },
  {
   "cell_type": "markdown",
   "metadata": {
    "id": "0an6fvc6Hyw6"
   },
   "source": [
    "### Read tables"
   ]
  },
  {
   "cell_type": "code",
   "execution_count": null,
   "metadata": {
    "colab": {
     "base_uri": "https://localhost:8080/",
     "height": 227
    },
    "executionInfo": {
     "elapsed": 149023,
     "status": "ok",
     "timestamp": 1621131694837,
     "user": {
      "displayName": "Di He",
      "photoUrl": "",
      "userId": "01551765020394733104"
     },
     "user_tz": 240
    },
    "id": "d74ec1fa",
    "outputId": "c1925726-f776-40ea-d339-b5c5eb059ba8"
   },
   "outputs": [
    {
     "data": {
      "text/html": [
       "<div>\n",
       "<style scoped>\n",
       "    .dataframe tbody tr th:only-of-type {\n",
       "        vertical-align: middle;\n",
       "    }\n",
       "\n",
       "    .dataframe tbody tr th {\n",
       "        vertical-align: top;\n",
       "    }\n",
       "\n",
       "    .dataframe thead th {\n",
       "        text-align: right;\n",
       "    }\n",
       "</style>\n",
       "<table border=\"1\" class=\"dataframe\">\n",
       "  <thead>\n",
       "    <tr style=\"text-align: right;\">\n",
       "      <th></th>\n",
       "      <th>track_id</th>\n",
       "      <th>title</th>\n",
       "      <th>song_id</th>\n",
       "      <th>release</th>\n",
       "      <th>artist_id</th>\n",
       "      <th>artist_mbid</th>\n",
       "      <th>artist_name</th>\n",
       "      <th>duration</th>\n",
       "      <th>artist_familiarity</th>\n",
       "      <th>artist_hotttnesss</th>\n",
       "      <th>year</th>\n",
       "    </tr>\n",
       "  </thead>\n",
       "  <tbody>\n",
       "    <tr>\n",
       "      <th>0</th>\n",
       "      <td>TRMMMYQ128F932D901</td>\n",
       "      <td>Silent Night</td>\n",
       "      <td>SOQMMHC12AB0180CB8</td>\n",
       "      <td>Monster Ballads X-Mas</td>\n",
       "      <td>ARYZTJS1187B98C555</td>\n",
       "      <td>357ff05d-848a-44cf-b608-cb34b5701ae5</td>\n",
       "      <td>Faster Pussy cat</td>\n",
       "      <td>252.05506</td>\n",
       "      <td>0.649822</td>\n",
       "      <td>0.394032</td>\n",
       "      <td>2003</td>\n",
       "    </tr>\n",
       "    <tr>\n",
       "      <th>1</th>\n",
       "      <td>TRMMMKD128F425225D</td>\n",
       "      <td>Tanssi vaan</td>\n",
       "      <td>SOVFVAK12A8C1350D9</td>\n",
       "      <td>Karkuteillä</td>\n",
       "      <td>ARMVN3U1187FB3A1EB</td>\n",
       "      <td>8d7ef530-a6fd-4f8f-b2e2-74aec765e0f9</td>\n",
       "      <td>Karkkiautomaatti</td>\n",
       "      <td>156.55138</td>\n",
       "      <td>0.439604</td>\n",
       "      <td>0.356992</td>\n",
       "      <td>1995</td>\n",
       "    </tr>\n",
       "  </tbody>\n",
       "</table>\n",
       "</div>"
      ],
      "text/plain": [
       "             track_id         title  ... artist_hotttnesss  year\n",
       "0  TRMMMYQ128F932D901  Silent Night  ...          0.394032  2003\n",
       "1  TRMMMKD128F425225D   Tanssi vaan  ...          0.356992  1995\n",
       "\n",
       "[2 rows x 11 columns]"
      ]
     },
     "execution_count": 13,
     "metadata": {
      "tags": []
     },
     "output_type": "execute_result"
    }
   ],
   "source": [
    "db_file = PATH+'/data_extension/track_metadata.db'\n",
    "\n",
    "con = sqlite3.connect(db_file)\n",
    "cursor = con.cursor()\n",
    "\n",
    "sql = \"\"\"\n",
    "        SELECT * FROM songs;\n",
    "        \"\"\"\n",
    "cursor.execute(sql)\n",
    "colnames = [desc[0] for desc in cursor.description]\n",
    "results = cursor.fetchall()\n",
    "track_meta= pd.DataFrame(results, columns=colnames)\n",
    "track_meta.head(2)"
   ]
  },
  {
   "cell_type": "code",
   "execution_count": null,
   "metadata": {
    "colab": {
     "base_uri": "https://localhost:8080/",
     "height": 106
    },
    "executionInfo": {
     "elapsed": 149503,
     "status": "ok",
     "timestamp": 1621131695992,
     "user": {
      "displayName": "Di He",
      "photoUrl": "",
      "userId": "01551765020394733104"
     },
     "user_tz": 240
    },
    "id": "2cb67aca",
    "outputId": "ab9f8dc5-3ac7-46fe-ae99-205072f57ba1"
   },
   "outputs": [
    {
     "data": {
      "text/html": [
       "<div>\n",
       "<style scoped>\n",
       "    .dataframe tbody tr th:only-of-type {\n",
       "        vertical-align: middle;\n",
       "    }\n",
       "\n",
       "    .dataframe tbody tr th {\n",
       "        vertical-align: top;\n",
       "    }\n",
       "\n",
       "    .dataframe thead th {\n",
       "        text-align: right;\n",
       "    }\n",
       "</style>\n",
       "<table border=\"1\" class=\"dataframe\">\n",
       "  <thead>\n",
       "    <tr style=\"text-align: right;\">\n",
       "      <th></th>\n",
       "      <th>artist_id</th>\n",
       "      <th>mbtag</th>\n",
       "    </tr>\n",
       "  </thead>\n",
       "  <tbody>\n",
       "    <tr>\n",
       "      <th>0</th>\n",
       "      <td>AR002UA1187B9A637D</td>\n",
       "      <td>uk</td>\n",
       "    </tr>\n",
       "    <tr>\n",
       "      <th>1</th>\n",
       "      <td>AR002UA1187B9A637D</td>\n",
       "      <td>rock</td>\n",
       "    </tr>\n",
       "  </tbody>\n",
       "</table>\n",
       "</div>"
      ],
      "text/plain": [
       "            artist_id mbtag\n",
       "0  AR002UA1187B9A637D    uk\n",
       "1  AR002UA1187B9A637D  rock"
      ]
     },
     "execution_count": 14,
     "metadata": {
      "tags": []
     },
     "output_type": "execute_result"
    }
   ],
   "source": [
    "db_file = PATH+'/data_extension/artist_term.db'\n",
    "\n",
    "con = sqlite3.connect(db_file)\n",
    "cursor = con.cursor()\n",
    "\n",
    "sql = \"\"\"\n",
    "        SELECT * FROM artist_mbtag;\n",
    "        \"\"\"\n",
    "cursor.execute(sql)\n",
    "colnames = [desc[0] for desc in cursor.description]\n",
    "results = cursor.fetchall()\n",
    "art_mbtag = pd.DataFrame(results, columns=colnames)\n",
    "art_mbtag.head(2)"
   ]
  },
  {
   "cell_type": "markdown",
   "metadata": {
    "id": "cfaa4c1d"
   },
   "source": [
    "### Get track and itstag pairs"
   ]
  },
  {
   "cell_type": "code",
   "execution_count": null,
   "metadata": {
    "id": "6CIoBEUw4QZ0"
   },
   "outputs": [],
   "source": [
    "id_tag = track_meta.drop_duplicates(subset=['track_id']) \\\n",
    "        .merge(pd.DataFrame(art_mbtag.groupby('artist_id').mbtag.apply(lambda x: x.sample(1))) \\\n",
    "               .reset_index(), on = ['artist_id']) \\\n",
    "        .loc[:,['track_id', 'mbtag']]"
   ]
  },
  {
   "cell_type": "code",
   "execution_count": null,
   "metadata": {
    "colab": {
     "base_uri": "https://localhost:8080/",
     "height": 124
    },
    "executionInfo": {
     "elapsed": 883,
     "status": "ok",
     "timestamp": 1621131926188,
     "user": {
      "displayName": "Di He",
      "photoUrl": "",
      "userId": "01551765020394733104"
     },
     "user_tz": 240
    },
    "id": "RT_ev-MI959T",
    "outputId": "417531af-229a-4c16-a893-abc99c4879f8"
   },
   "outputs": [
    {
     "name": "stdout",
     "output_type": "stream",
     "text": [
      "987\n"
     ]
    },
    {
     "data": {
      "text/html": [
       "<div>\n",
       "<style scoped>\n",
       "    .dataframe tbody tr th:only-of-type {\n",
       "        vertical-align: middle;\n",
       "    }\n",
       "\n",
       "    .dataframe tbody tr th {\n",
       "        vertical-align: top;\n",
       "    }\n",
       "\n",
       "    .dataframe thead th {\n",
       "        text-align: right;\n",
       "    }\n",
       "</style>\n",
       "<table border=\"1\" class=\"dataframe\">\n",
       "  <thead>\n",
       "    <tr style=\"text-align: right;\">\n",
       "      <th></th>\n",
       "      <th>track_id</th>\n",
       "      <th>track_index</th>\n",
       "      <th>mbtag</th>\n",
       "    </tr>\n",
       "  </thead>\n",
       "  <tbody>\n",
       "    <tr>\n",
       "      <th>0</th>\n",
       "      <td>TRLQPQJ128F42AA94F</td>\n",
       "      <td>172509</td>\n",
       "      <td>folk</td>\n",
       "    </tr>\n",
       "    <tr>\n",
       "      <th>1</th>\n",
       "      <td>TRDNHAW128F429DB9A</td>\n",
       "      <td>51813</td>\n",
       "      <td>heartland rock</td>\n",
       "    </tr>\n",
       "  </tbody>\n",
       "</table>\n",
       "</div>"
      ],
      "text/plain": [
       "             track_id  track_index           mbtag\n",
       "0  TRLQPQJ128F42AA94F       172509            folk\n",
       "1  TRDNHAW128F429DB9A        51813  heartland rock"
      ]
     },
     "execution_count": 26,
     "metadata": {
      "tags": []
     },
     "output_type": "execute_result"
    }
   ],
   "source": [
    "track_tag = track_encoding.merge(id_tag, on = ['track_id'])\n",
    "print(track_tag.mbtag.nunique())\n",
    "track_tag.head(2)"
   ]
  },
  {
   "cell_type": "markdown",
   "metadata": {
    "id": "60e17535"
   },
   "source": [
    "## Load ALS model and get itemfactors"
   ]
  },
  {
   "cell_type": "code",
   "execution_count": null,
   "metadata": {
    "id": "uFbRNPab5cS7"
   },
   "outputs": [],
   "source": [
    "model = ALSModel.load(MODEL_PATH)"
   ]
  },
  {
   "cell_type": "code",
   "execution_count": null,
   "metadata": {
    "colab": {
     "base_uri": "https://localhost:8080/",
     "height": 124
    },
    "executionInfo": {
     "elapsed": 19705,
     "status": "ok",
     "timestamp": 1621131949551,
     "user": {
      "displayName": "Di He",
      "photoUrl": "",
      "userId": "01551765020394733104"
     },
     "user_tz": 240
    },
    "id": "dffuawei7Lmo",
    "outputId": "1d6f26ae-edd2-4667-823c-48ebc41b8469"
   },
   "outputs": [
    {
     "name": "stdout",
     "output_type": "stream",
     "text": [
      "100\n"
     ]
    },
    {
     "data": {
      "text/html": [
       "<div>\n",
       "<style scoped>\n",
       "    .dataframe tbody tr th:only-of-type {\n",
       "        vertical-align: middle;\n",
       "    }\n",
       "\n",
       "    .dataframe tbody tr th {\n",
       "        vertical-align: top;\n",
       "    }\n",
       "\n",
       "    .dataframe thead th {\n",
       "        text-align: right;\n",
       "    }\n",
       "</style>\n",
       "<table border=\"1\" class=\"dataframe\">\n",
       "  <thead>\n",
       "    <tr style=\"text-align: right;\">\n",
       "      <th></th>\n",
       "      <th>id</th>\n",
       "      <th>features</th>\n",
       "    </tr>\n",
       "  </thead>\n",
       "  <tbody>\n",
       "    <tr>\n",
       "      <th>0</th>\n",
       "      <td>3</td>\n",
       "      <td>[-1.5620413250871934e-05, 8.336695827892981e-0...</td>\n",
       "    </tr>\n",
       "    <tr>\n",
       "      <th>1</th>\n",
       "      <td>13</td>\n",
       "      <td>[-0.0008952911593951285, -0.000388238346204161...</td>\n",
       "    </tr>\n",
       "  </tbody>\n",
       "</table>\n",
       "</div>"
      ],
      "text/plain": [
       "   id                                           features\n",
       "0   3  [-1.5620413250871934e-05, 8.336695827892981e-0...\n",
       "1  13  [-0.0008952911593951285, -0.000388238346204161..."
      ]
     },
     "execution_count": 28,
     "metadata": {
      "tags": []
     },
     "output_type": "execute_result"
    }
   ],
   "source": [
    "itemFactors = pd.DataFrame(model.itemFactors.collect(), columns = ['id', 'features']) \n",
    "print(len(itemFactors['features'][0]))\n",
    "itemFactors.head(2)"
   ]
  },
  {
   "cell_type": "code",
   "execution_count": null,
   "metadata": {
    "colab": {
     "base_uri": "https://localhost:8080/",
     "height": 106
    },
    "collapsed": true,
    "executionInfo": {
     "elapsed": 481,
     "status": "ok",
     "timestamp": 1621131956201,
     "user": {
      "displayName": "Di He",
      "photoUrl": "",
      "userId": "01551765020394733104"
     },
     "user_tz": 240
    },
    "id": "d77e0c37",
    "outputId": "59d9df55-e922-4ad6-99a8-2b7841c3121a"
   },
   "outputs": [
    {
     "data": {
      "text/html": [
       "<div>\n",
       "<style scoped>\n",
       "    .dataframe tbody tr th:only-of-type {\n",
       "        vertical-align: middle;\n",
       "    }\n",
       "\n",
       "    .dataframe tbody tr th {\n",
       "        vertical-align: top;\n",
       "    }\n",
       "\n",
       "    .dataframe thead th {\n",
       "        text-align: right;\n",
       "    }\n",
       "</style>\n",
       "<table border=\"1\" class=\"dataframe\">\n",
       "  <thead>\n",
       "    <tr style=\"text-align: right;\">\n",
       "      <th></th>\n",
       "      <th>track_id</th>\n",
       "      <th>track_index</th>\n",
       "      <th>mbtag</th>\n",
       "      <th>id</th>\n",
       "      <th>features</th>\n",
       "    </tr>\n",
       "  </thead>\n",
       "  <tbody>\n",
       "    <tr>\n",
       "      <th>0</th>\n",
       "      <td>TRLQPQJ128F42AA94F</td>\n",
       "      <td>172509</td>\n",
       "      <td>folk</td>\n",
       "      <td>172509</td>\n",
       "      <td>[-0.011796296574175358, 0.013817918486893177, ...</td>\n",
       "    </tr>\n",
       "    <tr>\n",
       "      <th>1</th>\n",
       "      <td>TRDNHAW128F429DB9A</td>\n",
       "      <td>51813</td>\n",
       "      <td>heartland rock</td>\n",
       "      <td>51813</td>\n",
       "      <td>[-0.00906515121459961, 0.031062517315149307, -...</td>\n",
       "    </tr>\n",
       "  </tbody>\n",
       "</table>\n",
       "</div>"
      ],
      "text/plain": [
       "             track_id  ...                                           features\n",
       "0  TRLQPQJ128F42AA94F  ...  [-0.011796296574175358, 0.013817918486893177, ...\n",
       "1  TRDNHAW128F429DB9A  ...  [-0.00906515121459961, 0.031062517315149307, -...\n",
       "\n",
       "[2 rows x 5 columns]"
      ]
     },
     "execution_count": 29,
     "metadata": {
      "tags": []
     },
     "output_type": "execute_result"
    }
   ],
   "source": [
    "track_tag_embedding = track_tag.merge(itemFactors, left_on = 'track_index',right_on = 'id', how = 'inner' )\n",
    "track_tag_embedding.head(2)"
   ]
  },
  {
   "cell_type": "markdown",
   "metadata": {
    "id": "2c190c9f"
   },
   "source": [
    "## Sample and Plot"
   ]
  },
  {
   "cell_type": "markdown",
   "metadata": {
    "id": "JZyee4ZMIb1K"
   },
   "source": [
    "## Sample based on tags, data "
   ]
  },
  {
   "cell_type": "code",
   "execution_count": null,
   "metadata": {
    "colab": {
     "base_uri": "https://localhost:8080/"
    },
    "executionInfo": {
     "elapsed": 192,
     "status": "ok",
     "timestamp": 1621131957450,
     "user": {
      "displayName": "Di He",
      "photoUrl": "",
      "userId": "01551765020394733104"
     },
     "user_tz": 240
    },
    "id": "gNfWDlSA8pmW",
    "outputId": "dd573d6b-d9f6-468a-c705-bad6b0cd656e"
   },
   "outputs": [
    {
     "name": "stdout",
     "output_type": "stream",
     "text": [
      "['rock and indie', 'classic pop and rock', 'folk', 'american', 'rock', 'british', 'hip hop rnb and dance hall', 'uk', 'english', 'dance and electronica', 'pop and chart', 'german', 'punk', 'electronic', 'jazz and blues', 'world', 'pop', 'finnish', 'hip hop', 'alternative rock', 'country', 'soul and reggae', 'metal', 'french', 'usa', 'progressive rock', 'production music', 'swedish', 'norwegian', 'jazz', 'canadian', 'hip-hop', 'italian', 'european', 'blues', 'américain', 'hard rock', 'easy listening soundtracks and musicals', 'progressive metal', 'heavy metal', 'classical', 'ambient', 'united states', 'indie rock', 'dutch', 'latin', '4ad', 'ska', 'thrash metal', 'death metal', 'rap', 'australian', 'indie', 'scottish', 'soul', 'soundtrack', 'black metal', 'czech', 'downtempo', 'dance', 'canada', 'hiphop', 'brazilian', 'electronica', 'blues rock', 'alternative', 'alternative metal', 'england', 'hardcore', 'art rock', 'idm', 'irish', 'turkish', 'post-rock', 'spanish', 'pop rock', 'new wave', 'us', 'jamaican', 'britannique', 'industrial metal', 'aggrotech', 'country-es', 'film composer', 'warp', 'post-hardcore', 'france', 'rnb', 'punk rock', 'christian', 'reggae', 'español', 'gothic metal', 'ninja tune', 'francophone', 'synthpop', 'composer', 'comedy', 'christian rock', 'united kingdom', 'chinese', 'electro-industrial', 'a cappella', 'metalcore', 'australia', 'indie pop', 'hungarian', 'the netherlands', 'danish', 'groove metal', 'symphonic metal', 'singer-songwriter', 'instrumental', 'filk', 'psytrance', '90s', 'desi', 'arabic', 'pop punk', 'industrial', 'shoegazing', 'experimental', 'jazz fusion', 'funk', 'speed metal', 'rock and roll', 'deathcore', 'techno', 'california', 'seen live', 'doom metal', 'quebec', 'trance', 'post-punk', 'glam rock', 'power metal', 'leeds', 'greek', 'français', 'new romantic', 'washington dc', 'experimental rock', 'garage rock', 'psychedelic rock', 'dance-pop', 'crossover thrash', 'folk metal', 'male vocalists', 'gospel', 'baroque pop', 'norteña', 'darkwave', 'grunge', 'ebm', 'female vocalists', 'trip-hop', 'nu metal', 'big beat', 'latvian', 'dancehall', 'celtic', 'grindcore', 'drum and bass', 'folk rock', 'salsa', 'lyricist', '60s', 'producer', 'electropop', 'country rock', 'worship', 'icelandic', 'electro', 'welsh', 'mpb', 'belgium', 'new metal', 'south african', 'romanian', 'psychedelic', 'funk metal', 'sweden', 'country pop', 'alt punk', 'london', 'classic rock', 'japanese', 'scandinavia', 'noise rock', 'irish folk', 'breakcore', 'eurovision', 'parolier', 'rapper', 'mexican', 'bossa nova', 'singer', 'post-grunge', '70s', 'dub', 'piano', 'lomita', 'electric blues', 'psychedelic pop', 'hardcore punk', 'swiss', 'germany', 'acid jazz', 'nl', 'classic hardcore punk', 'flamenco', 'mountain tracks', 'psychobilly', 'disco', 'futurepop', 'thomas bangalter', 'melodic death metal', 'damon', 'nuevo flamenco', 'méxico', 'funk rock', 'lies', 'sanborn', 'political rap', 'dark wave', 'dream pop', 'children s', 'mexico', 'belgian', 'slovak', 'vocal', 'ambient techno', 'gabber', 'popera', 'rasta', 'contemporary folk', 'puerto rican', 'guitarra', 'psychedelic trance', 'new brunswick', '2005', 'cuba', 'post-core', 'space rock', 'scotland', 'trooper entertainment', 'surf', 'look at us', 'american idol', 'janet-jackson', 'emo-pop', 'argentina', 'irlandais', 'dubstep', 'pizza', 'surf rock', 'ranchera', 'heartland rock', '80s synthpop', 'brazil', 'tony kanal', 'denmark', 'big dada', 'german industrial', 'favorite argentinian', 'new york', 'roots', 'x', 'neighbours', 'brazilian classics player', 'oceansize', 'italia', 'piano pop', 'new age', 'http en wikipedia org wiki quantic_ 28musician 29', '00s', 'video game', 'symphonic black metal', 'guitar', 'american thrash metal', 'georgia', 'mandarin', 'acoustic', 'emo', 'sverige', 'soundtrack composer', 'power pop', 'soft rock', 'berlin', 'contemporary christian', 'neo soul', 'bristol', 'washington', 'sludge metal', 'basque', 'delta blues', 'math rock', 'goth rock', 'uk garage', 'nwobhm', 'cajun', 'blackened death metal', 'art punk', 'argentinian', 'northern irish', 'piano pop rock', 'iceland', 'post-emo', 'adult contemporary', 'breaks', 'crossover', 'grime', 'jam', 'singer and songwriter', 'new jack swing', 'alternative country', 'industrial rock', 'tango', 'psych folk', '2007', 'game composer', 'bachata', 'san francisco', 'instrumental rock', 'japan', 'technical death metal', 'minnesotan', 'detroit', 'austrian', 'ndw', 'portuguese', 'chicago', 'g-funk', 'http musicbrainz org show artist artistid 437', 'poland', 'düsseldorf', 'smooth jazz', 'i heard love is blind', 'bassist', 'nevada', 'electro pop', 'perth', 'stiff little fingers', 'los angeles', 'norvégien', 'swing', 'psybient', 'birmingham', 'el paso', 'lafee', 'miami', 'lyon', 'post-bop', 'neofolk', 'spain', 'adult alternative rock', 'deep house', 'alternative dance', 'conductor', 'protopunk', 'mainstream jazz', 'riot grrrl', 'freedom call', 'south carolina', 'rez band', 'neo-psychedelia', '80s', 'south american', 'dinamo', 'derry', 'morcheeba', 'hardcore hip-hop', 'bebop', 'colombia', 'ace of base', 'hong kong', 'jangle pop', 'ska-core', 'kwaito', 'slow pop', 'trumpeter', 'mc', 'synth pop', 'p-funk', 'touhou', 'japanese band', 'kölsch', 'bitpop', 'above the rim', 'british blues', 'drone', 'dark ambient', 'nigerian', 'chris de burgh', 'massachusetts', 'dance hall', 'math metal', 'melodic black metal', '日本', 'actor', '1980s', 'parody', 'victoria', 'carlos baute colgando en tus manos nada se compara a ti', 'ylöjärvi', 'hamburg', 'old school hip-hop', 'gothic', 'cello', 'contemporary r b', 'rhythm and blues', 'malian', 'compositeur', 'big band', 'director', 'rostock', 'funny', 'apocalyptic folk', 'vocals', 'rap metal', 'los enemigos', 'funktronica', 'canterbury', 'electro rock', 'nottingham', 'power noise', 'færøerne', 'wu-tang', 'ska punk', 'singapore', 'post hardcore', 'nu jazz', 'blank and jones', 'star academy', 'relaxed', 'rapcore', 'klezmer', 'ireland', 'iranian', 'dance-punk', 'avant-garde metal', 'neo rockabilly', 'eurodance', 'fusion', 'drum bass', 'trip hop', 'chilean', 'norrköping', 'christian hip-hop', 'miley-cyrus', 'shoegaze', 'verona', 'fixme', 'blues-rock', 'speedfolk', 'israeli', 'http musicbrainz org artist 43c0958c-27ef-46c4-b4cc-83cfca54170d html', 'thrash', 'pop rap', 'techstep', 'donosti', 'ccm', 'britpop', 'oriental metal', 'indian', 'scottish gaelic', 'sky eats airplane', 'wellington', 'afro-beat', 'michigan', 'blufunk', 'polish', 'phil spector', 'harmonicist', 'soprano', 'classicpopandrock', 'dangerous', 'mas mojinos', 'plague', 'hawaiian', 'pakistani', 'akcent', 'portland', 'humppa', 'ska punk reggae', 'españa', 'howard carpendale', 'chanteur', 'houston', 'symphonic death metal', 'glitch', 'bass', 'grupera', 'bradford', 'stockholm', 'taiwanese', 'latin rap', 'vero beach', 'trumpet', 'guitariste', 'gold', 'detroit blues', 'punjabi', 'iowa', '10s', 'http en wikipedia org wiki nostalgia_77', 'swansea', 'calogero', 'steal your goals', 'goa trance', 'goa', 'southern rock', 'nouvelle star', 'songwriter', 'female singer-songwriter', 'traditional', 'crossover jazz', 'jazz pop', 'zouk', 'canadien', 'deutschland', 'las mejores canciones del mundo vol 2', 'angola', 'http en wikipedia org wiki belleruche', 'stoner rock', 'easy listening', 'pleasure and pain', 'electroclash', 'liedermacher', 'medieval', 'nintendocore', 'karajan', 'fusion jazz', 'marisa nadler', 'austria', 'love of lesbian', 'low rock', 'anti-fascist', 'avant-garde', 'vbyjtiicc a6pamrvplxdepb02k-', 'proto-rock', 'c64', 'sebastián yepes', 'polka', 'amherst', 'powerwolf', 'acdc', 'marcus vere', 'vgm', 'minimal techno', 'jazzcore', 'trinidad and tobago', 'fictional', 'stoner metal', 'country-za', 'vallenato', 'texas', 'outlaw country', 'boogie', 'experimental metal', 'ragga metal', 'eire', 'contemporary blues', 'percussion hellmut hattler bass guitar', 'sananda maitreya', 'fashawn', 'ragtime', 'avante garde', 'post rock', 'deathrock', 'kim falo', 'beach', 'israel', 'animal collective', 'jam band', 'todd howe', 'screamo', 'stoner-doom metal', 'munich', 'pianist', 'creative commons', 'brutal death metal', 'english folk', 'liverpool', 'shit', 'art-garfunkel', 'looks like a special purpose artist but is not', 'andrews sisters', 'war', '90', 'paris', 'noise', 'vocalist', 'singer songwriters', 'new orleans', 'house', 'bronius bagackas', 'gasolin', 'electrofunk', 'french touch', 'partiendome el alma', 'ljubljana', 'pure psychobilly', 'latin jazz', 'http en wikipedia org wiki jesca_hoop', 'm2m', 'goth', 'mod', 'hard bop', 'southern', 'josé josé', 'author', 'bajofondo', 'persian', 'nasheed', 'cleveland', 'oc remixer', 'http en wikipedia org wiki flevans', 'malaysia', 'electro french', 'odm', 'swedish death metal', 'noreg', 'deutschrock', 'post-industrial', 'thomas schumacher', 'vienna', 'aggro berlin', 'post-punk revival', 'side project', 'brazilian rock', 'mathcore', 'keiko matsui', 'brasil', 'del shannon greatest hits', 'bobby brakens', 'poetry', 'otras canciones', 'ragga', 'llandegfan', 'dr doctor drsapo sapo spanish group pop rock', 'reggaeton', 'tech house', 'estonian', 'bogus artist', 'ao vivo', 'avant-garde death metal', 'secret machines', 'root', 'cabaret', 'roy orbison', 'rocksteady', 'bandoneonist', 'deeskee', 'dj', 'nueva trova', 'macka b', 'mariachi', 'cuban', 'sludge', 'free funk', 'urban', 'munster', 'adam gray', 'atmospheric black metal', 'milwaukee', 'keyboardist', 'alt-rock', 'c86', 'harrow', 'new zealand', 'aussie hip-hop', 'jbigga j bigga', 'post bop', 'chamber', 'finland', 'chenoa female singer spanish latin ot pop rock', 'chance', 'uruguayan', 'http en wikipedia org wiki azaxx', 'jive', 'keyboards', 'guy sigsworth', 'pop folk', 'harmonica blues', 'kingston', 'andy perring', 'violoniste', 'garagerock', 'neue deutsche welle', 'notes from the underground', 'manchester', 'russian', 'planet mu', 'trailer music', 'travis barker', 'radio', 'space', 'dirty south', 'darin insanity', 'wales mary hopkin', 'grenoble', 'sandy e junior', 'lahti', 'oregon', 'mastering', 'komşu', 'miguel bosé', 'british asian', 'british metal', 'cover', 'monégasque', 'hindi', 'tequilajazzz', 'cantonese', 'neoprog', 'http en wikipedia org wiki kylie_auldist', 'wallasey', 'piano rock', 'check it', 'choir', 'americana', 'gratuitous heavy metal umlaut', 'anarcho', 'juicy ibiza', 'ohio', 'queercore', 'meredith brooks', 'folk rock children s', 'uk82', 'punk jazz', 'festa', 'punjabi bhangra', 'belo', 'qi-western releases', 'inditronica', 'contra', 'contemporary jazz', 'yolandita monge', 'changing faces', 'synthrock', 'greatest hits', 'german pop', 'brighton', 'banda el limon', 'north atlantic oscillation nao naoband grappling hooks cell count', 'sillyname', 'black metal-ambient', 'elliott murphy with chris spedding', 'warminster', 'new jersey', 'female voices', 'norsk', 'jewish', 'artificial language', 'orbital', 'black ambient', 'shibuya-kei', 'purchase', 'skeletons', 'breakbeat', 'schlager', 'hamburger schule', 'http en wikipedia org wiki saravah_soul', 'sunderland', 'banda', 'stevenage', 'se', 'irish rebel traditional', 'folk-rock', 'cinematic', 'blackpool', 'glam', 'mezzo-soprano', 'art taylor', 'd-beat', 'glam metal', 'x factor', 'netherlands', 'progressive death-grind', 'glasgow', 'progressive house', 'riihimaki', 'progressive', 'greek folk', 'red one david forbes remix', 'college rock', 'cedar falls', 'rock in opposition', 'ambient rock', 'nu-jazz', 'leipzig', 'soul central', 'oxford', 'violin', 'brutal', 'trombone', 'venice', 'trip rock', 'baltimore', 'toni', 'natalia lafourcade', 'happy hardcore', 'lgbt', 'psychedleic rock', 'hi-nrg', 'punjabi duet', 'http en wikipedia org wiki the_broken_keys', 'fresh', 'chicago house', 'disney legend', 'dragon ball', 'saxophone', 'hebrew', 'bosnia and herzegovina', 'betulio medina', 'acoustic blues', 'samba pagode', 'devon', 'political cabaret', 'mb_artist_credit', 'destined records', 'post-metal', 'tex-mex', 'star search', 'christian metal', 'urban folk', 'minneapolis sound', 'psychedelic folk', 'chicago blues', 'actress', 'boston', 'brazilian metal', 'middle class rut', 'pop country rock', 'the headhunters', 'east orange', 'erroll garner', 'oxfordshire', 'reggaetón', 'reggae dubstep dancehall dub scotland glasgow', 'gothic rock', 'opera', 'shock rock', 'progressive trance', 'slide guitar', 'brixton', 'makafresh', 'czechoslovakia', 'tsawwassen', 'chapel hill', 'afrikaans rock', 'south africa', 'bite the flower', 'saxaphone', 'norwich', 'anuna choral celtic irish ireland', 'macro', 'aleks syntek', 'santa barbara', 'rock en espanol', 'viking metal', 'one-hit wonder', 'rock roll', 'dallas', 'andean folk', 'hornchurch', 'national folk', 'dando lidia', 'nu-metal', 'adam ant', 'power electronics', 'japanese composer', 'latin cuba son guajira compay segundo', 'cock robin', 'my blue heaven', 'epping', 'cardiff', 'rio', 'ray parker jr', 'comedy rock', 'fuzz rock', 'montréal', 'ethereal', 'catalan', 'franc', 'joelho de porco', 'pop idols', 'grindpunk', 'tru skool', 'ambient dub', 'kid blue', 'jump blues', 'tataee', 'psy-trance', 'depressed subcore', 'stuttgart', 'brainpower', 'series-mozart-complete works-philips', 'crust', 'amsterdam', 'bobby valentin', 'virgin islands reggae', 'bunt sind schon die wälder', 'http en wikipedia org wiki freddie_cruger_a k a_red_astaire', 'charity', 'scandinavian', 'nic armstrong', 'anti-rock', 'percussionist', 'ngs-todo', 'hertford', 'valkyrend', 'http musicbrainz org show tag tag fiorella 20mannoia show artist', 'malmo', 'russia', 'alt-country', 'naples', 'orchestrateur', 'italy', 'acid rock', 'peterborough', 'iskelmä', 'video game composer', 'musical theater', 'wichita', 'http en wikipedia org wiki spanky_wilson', 'indie dancerock', 'http en wikipedia org wiki milez_benjiman', 'girl group', 'highlife', 'http en wikipedia org wiki domu_ 28dominic_stanton 29', 'indie pop indiepop sweden swedish blowup', 'motown', 'indonesian', 'ingénieur du son', 'sts9', 'minnesota', 'sober', 'kiwi', 'brad smith', 'denmark danish dk', 'labelasartist', 'singer songwriter', 'dark cabaret', 'sirrah', 'latin pop', 'buffalo', 'photographer', 'country-my', 'garage', 'solipsism craig murphy ambient idm techno electronica', 'sydney', 'count basie oscar peterson', 'corridos', 'copenhagen', 'maltido', 'contemporary gospel', 'companhia das índias', 'malay', 'norfolk', 'bogus_artist_questionmark', 'serbia', 'mendez - lady', 'durango', 'annie', 'turntablism', 'freeform', 'aussie hip hop', 'rap hip hop west coast', 'female vocalist', 'autoharp', 'richmond', 'europe', 'eurobeat', 'balearic', 'essex', 'romantic', 'beatgen', 'kalamazoo', 'beijing', 'trad goth', 'bern', 'east coast hip-hop', 'tongeren', 'dusseldorf', 'i m a nut']\n"
     ]
    }
   ],
   "source": [
    "tags_counts = track_tag_embedding.groupby('mbtag')['track_index'].count().sort_values(ascending=False)\n",
    "print(tags_counts.index.tolist())"
   ]
  },
  {
   "cell_type": "code",
   "execution_count": null,
   "metadata": {
    "id": "Xsguxw00DCZk"
   },
   "outputs": [],
   "source": [
    "human_selected_tags = ['classical', 'folk', 'soul and reggae','hip hop', 'jazz and blues', 'electronic', 'hard rock', 'metal']\n",
    "human_selected_tags_with_order = [str(i) + '_' + human_selected_tags[i] for i in range(len(human_selected_tags))]\n",
    "\n",
    "tags_order_map = dict(zip(human_selected_tags, human_selected_tags_with_order))"
   ]
  },
  {
   "cell_type": "code",
   "execution_count": null,
   "metadata": {
    "colab": {
     "base_uri": "https://localhost:8080/",
     "height": 106
    },
    "executionInfo": {
     "elapsed": 301,
     "status": "ok",
     "timestamp": 1621132534499,
     "user": {
      "displayName": "Di He",
      "photoUrl": "",
      "userId": "01551765020394733104"
     },
     "user_tz": 240
    },
    "id": "pxKLVb3OAePo",
    "outputId": "a8cf4cf4-0132-42b9-8ea7-d5cd55fa6331"
   },
   "outputs": [
    {
     "data": {
      "text/html": [
       "<div>\n",
       "<style scoped>\n",
       "    .dataframe tbody tr th:only-of-type {\n",
       "        vertical-align: middle;\n",
       "    }\n",
       "\n",
       "    .dataframe tbody tr th {\n",
       "        vertical-align: top;\n",
       "    }\n",
       "\n",
       "    .dataframe thead th {\n",
       "        text-align: right;\n",
       "    }\n",
       "</style>\n",
       "<table border=\"1\" class=\"dataframe\">\n",
       "  <thead>\n",
       "    <tr style=\"text-align: right;\">\n",
       "      <th></th>\n",
       "      <th>track_id</th>\n",
       "      <th>track_index</th>\n",
       "      <th>mbtag</th>\n",
       "      <th>id</th>\n",
       "      <th>features</th>\n",
       "      <th>mbtag_with_order</th>\n",
       "    </tr>\n",
       "  </thead>\n",
       "  <tbody>\n",
       "    <tr>\n",
       "      <th>154180</th>\n",
       "      <td>TRKQEUD128F149190C</td>\n",
       "      <td>157123</td>\n",
       "      <td>folk</td>\n",
       "      <td>157123</td>\n",
       "      <td>[1.3566333109338302e-05, 5.022314508096315e-05...</td>\n",
       "      <td>1_folk</td>\n",
       "    </tr>\n",
       "    <tr>\n",
       "      <th>69706</th>\n",
       "      <td>TRYUWVC128F4247090</td>\n",
       "      <td>368496</td>\n",
       "      <td>folk</td>\n",
       "      <td>368496</td>\n",
       "      <td>[6.885647962917574e-06, 0.00019051661365665495...</td>\n",
       "      <td>1_folk</td>\n",
       "    </tr>\n",
       "  </tbody>\n",
       "</table>\n",
       "</div>"
      ],
      "text/plain": [
       "                  track_id  ...  mbtag_with_order\n",
       "154180  TRKQEUD128F149190C  ...            1_folk\n",
       "69706   TRYUWVC128F4247090  ...            1_folk\n",
       "\n",
       "[2 rows x 6 columns]"
      ]
     },
     "execution_count": 49,
     "metadata": {
      "tags": []
     },
     "output_type": "execute_result"
    }
   ],
   "source": [
    "track_tag_embedding_selected = track_tag_embedding[track_tag_embedding.mbtag.isin(human_selected_tags)].sample(n = N_TRACKS, replace = False)\n",
    "track_tag_embedding_selected['mbtag_with_order'] = track_tag_embedding_selected.mbtag.map(tags_order_map)\n",
    "track_tag_embedding_selected.head(2)"
   ]
  },
  {
   "cell_type": "markdown",
   "metadata": {
    "id": "PFa48c0dIaXw"
   },
   "source": [
    "## Plot"
   ]
  },
  {
   "cell_type": "code",
   "execution_count": null,
   "metadata": {
    "colab": {
     "base_uri": "https://localhost:8080/",
     "height": 656
    },
    "executionInfo": {
     "elapsed": 27886,
     "status": "ok",
     "timestamp": 1621132563445,
     "user": {
      "displayName": "Di He",
      "photoUrl": "",
      "userId": "01551765020394733104"
     },
     "user_tz": 240
    },
    "id": "a649b0e9",
    "outputId": "fed44b41-c582-45c6-ea26-4d472b250dda"
   },
   "outputs": [
    {
     "data": {
      "text/plain": [
       "<matplotlib.axes._subplots.AxesSubplot at 0x7efcd36d8f10>"
      ]
     },
     "execution_count": 50,
     "metadata": {
      "tags": []
     },
     "output_type": "execute_result"
    },
    {
     "data": {
      "image/png": "[encoded data removed]",
      "text/plain": [
       "<Figure size 800x800 with 1 Axes>"
      ]
     },
     "metadata": {
      "tags": []
     },
     "output_type": "display_data"
    }
   ],
   "source": [
    "minlist  = [0.001,0.01,0.1,0.2,0.5,0.8,1.0]\n",
    "mapper = umap.UMAP(random_state=66, min_dist = minlist[6], metric='euclidean', n_components=2, verbose = False)\\\n",
    "            .fit(track_tag_embedding_selected['features'].tolist())\n",
    "umap.plot.points(mapper, labels = track_tag_embedding_selected['mbtag_with_order'], theme = 'fire')"
   ]
  },
  {
   "cell_type": "code",
   "execution_count": null,
   "metadata": {
    "id": "hD1NwrUi_qrb"
   },
   "outputs": [],
   "source": []
  }
 ],
 "metadata": {
  "colab": {
   "collapsed_sections": [],
   "name": "03_E5_visualization.ipynb",
   "provenance": [],
   "toc_visible": true
  },
  "kernelspec": {
   "display_name": "Python 3",
   "language": "python",
   "name": "python3"
  },
  "language_info": {
   "codemirror_mode": {
    "name": "ipython",
    "version": 3
   },
   "file_extension": ".py",
   "mimetype": "text/x-python",
   "name": "python",
   "nbconvert_exporter": "python",
   "pygments_lexer": "ipython3",
   "version": "3.7.9"
  },
  "toc": {
   "base_numbering": 1,
   "nav_menu": {},
   "number_sections": true,
   "sideBar": true,
   "skip_h1_title": false,
   "title_cell": "Table of Contents",
   "title_sidebar": "Contents",
   "toc_cell": false,
   "toc_position": {},
   "toc_section_display": true,
   "toc_window_display": false
  }
 },
 "nbformat": 4,
 "nbformat_minor": 5
}

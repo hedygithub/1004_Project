{
 "cells": [
  {
   "cell_type": "code",
   "execution_count": null,
   "metadata": {
    "pycharm": {
     "name": "#%%\n"
    }
   },
   "outputs": [],
   "source": [
    "cd <your path>"
   ]
  },
  {
   "cell_type": "markdown",
   "metadata": {
    "id": "0q6Pw0pJSBBv"
   },
   "source": [
    "# Begining"
   ]
  },
  {
   "cell_type": "markdown",
   "metadata": {
    "id": "I7v4rsrRYIp0"
   },
   "source": [
    "## Load modules"
   ]
  },
  {
   "cell_type": "code",
   "execution_count": null,
   "metadata": {
    "colab": {
     "base_uri": "https://localhost:8080/"
    },
    "executionInfo": {
     "elapsed": 39615,
     "status": "ok",
     "timestamp": 1620454746155,
     "user": {
      "displayName": "Yue Yin",
      "photoUrl": "https://lh3.googleusercontent.com/a-/AOh14GhbFETp54ffAvCEJq4GOTwfk-zMhOZ5Z2xTTXTpNg=s64",
      "userId": "11197613804136917610"
     },
     "user_tz": -480
    },
    "id": "RtxMt53pSBBw",
    "outputId": "4e5ad85f-0eeb-41bb-d87d-5e8c5465748d"
   },
   "outputs": [
    {
     "name": "stdout",
     "output_type": "stream",
     "text": [
      "Collecting pyspark\n",
      "\u001b[?25l  Downloading https://files.pythonhosted.org/packages/45/b0/9d6860891ab14a39d4bddf80ba26ce51c2f9dc4805e5c6978ac0472c120a/pyspark-3.1.1.tar.gz (212.3MB)\n",
      "\u001b[K     |████████████████████████████████| 212.3MB 64kB/s \n",
      "\u001b[?25hCollecting py4j==0.10.9\n",
      "\u001b[?25l  Downloading https://files.pythonhosted.org/packages/9e/b6/6a4fb90cd235dc8e265a6a2067f2a2c99f0d91787f06aca4bcf7c23f3f80/py4j-0.10.9-py2.py3-none-any.whl (198kB)\n",
      "\u001b[K     |████████████████████████████████| 204kB 40.2MB/s \n",
      "\u001b[?25hBuilding wheels for collected packages: pyspark\n",
      "  Building wheel for pyspark (setup.py) ... \u001b[?25l\u001b[?25hdone\n",
      "  Created wheel for pyspark: filename=pyspark-3.1.1-py2.py3-none-any.whl size=212767604 sha256=dea8b4d5fa3cb6abee546fd96dbd4d91cf5ffd1c08b617ce9f00ed531132e5d1\n",
      "  Stored in directory: /root/.cache/pip/wheels/0b/90/c0/01de724414ef122bd05f056541fb6a0ecf47c7ca655f8b3c0f\n",
      "Successfully built pyspark\n",
      "Installing collected packages: py4j, pyspark\n",
      "Successfully installed py4j-0.10.9 pyspark-3.1.1\n"
     ]
    }
   ],
   "source": [
    "! pip install pyspark"
   ]
  },
  {
   "cell_type": "code",
   "execution_count": null,
   "metadata": {
    "id": "di0517yhSBBx"
   },
   "outputs": [],
   "source": [
    "import pyspark.sql.functions as func\n",
    "from pyspark.sql import Window\n",
    "from pyspark.sql import SparkSession\n",
    "\n",
    "from pyspark import StorageLevel\n",
    "from pyspark.ml.recommendation import ALS, ALSModel\n",
    "from pyspark.ml.feature import StringIndexer\n",
    "# from pyspark.ml.evaluation import RegressionEvaluator\n",
    "from pyspark.mllib.evaluation import RankingMetrics\n",
    "\n",
    "from operator import itemgetter"
   ]
  },
  {
   "cell_type": "markdown",
   "metadata": {
    "id": "OKUNH8c4SBBy"
   },
   "source": [
    "## Define the Parameters"
   ]
  },
  {
   "cell_type": "code",
   "execution_count": null,
   "metadata": {
    "id": "91U9WtARSBBy"
   },
   "outputs": [],
   "source": [
    "# SRC_PATH = '/scratch/work/courses/DSGA1004-2021/MSD'\n",
    "SRC_PATH = './data'\n",
    "PATH = './data'\n",
    "\n",
    "FRACTION = 0.25\n",
    "TOP=500\n",
    "PREC_AT = 500\n",
    "\n",
    "\n",
    "MAX_MEMORY = \"30g\"\n",
    "spark = SparkSession \\\n",
    "    .builder \\\n",
    "    .appName('quq') \\\n",
    "    .config(\"spark.executor.memory\", MAX_MEMORY) \\\n",
    "    .config(\"spark.driver.memory\", MAX_MEMORY) \\\n",
    "    .getOrCreate()"
   ]
  },
  {
   "cell_type": "markdown",
   "metadata": {
    "id": "bUOsCq9aX8ef"
   },
   "source": [
    "# Data Preparation"
   ]
  },
  {
   "cell_type": "markdown",
   "metadata": {
    "id": "Xsrqp6b3dBmt"
   },
   "source": [
    "## Whole [Only Execute Once]"
   ]
  },
  {
   "cell_type": "markdown",
   "metadata": {
    "id": "2f6gSIDvSBBz"
   },
   "source": [
    "### Data processing "
   ]
  },
  {
   "cell_type": "code",
   "execution_count": 1,
   "metadata": {
    "executionInfo": {
     "elapsed": 882,
     "status": "ok",
     "timestamp": 1621194953736,
     "user": {
      "displayName": "Di He",
      "photoUrl": "",
      "userId": "01551765020394733104"
     },
     "user_tz": 240
    },
    "id": "NwxwzICDSBBz"
   },
   "outputs": [],
   "source": [
    "# Load the Data\n",
    "print('Begin loading data')\n",
    "\n",
    "train = spark.read.parquet('1004_Project/data/cf_train_new.parquet')\n",
    "# train = spark.read.parquet(SRC_PATH+'/cf_train.parquet')\n",
    "val = spark.read.parquet(SRC_PATH+'/cf_validation.parquet')\n",
    "test = spark.read.parquet(SRC_PATH+'/cf_test.parquet')\n",
    "print('Successfully loaded the data')\n",
    "# print(test.show(1))\n",
    "\n",
    "# Get Unique user and track\n",
    "unique_user = train.select('user_id').distinct()\n",
    "unique_track = ((train.select('track_id').distinct()) \n",
    "                .union(val.select('track_id').distinct())\n",
    "                .union(test.select('track_id').distinct())).distinct()\n",
    "print('Successfully get unique user/track')\n",
    "\n",
    "''' Not working at Colab\n",
    "# Encode string to index\n",
    "user_to_index = unique_user.rdd.map(itemgetter(0)).zipWithIndex().toDF(['user_id', 'user_index'])\n",
    "track_to_index = unique_track.rdd.map(itemgetter(0)).zipWithIndex().toDF(['track_id', 'track_index'])\n",
    "print('Successfully get the encoding function')\n",
    "train = train.join(user_to_index,['user_id'], how='left')\n",
    "train = train.join(track_to_index,['track_id'], how='left')\n",
    "\n",
    "val = val.join(user_to_index,['user_id'], how='left')\n",
    "val = val.join(track_to_index,['track_id'], how='left')\n",
    "\n",
    "test = test.join(user_to_index,['user_id'], how='left')\n",
    "test = test.join(track_to_index,['track_id'], how='left')     \n",
    "print('Successfully encoding the user and track')\n",
    "print(test.show(1))\n",
    "'''\n",
    "\n",
    "             \n",
    "# Too slow to use StringIndexer() when model.fit()\n",
    "# Encode string to index\n",
    "indexer_user = StringIndexer(inputCol=\"user_id\", outputCol=\"user_index\")\n",
    "tran_user = indexer_user.fit(unique_user)\n",
    "indexer_track = StringIndexer(inputCol=\"track_id\", outputCol=\"track_index\")\n",
    "tran_track = indexer_track.fit(unique_track)\n",
    "print('Successfully get the encoding function')\n",
    "\n",
    "train = tran_user.transform(train)\n",
    "val = tran_user.transform(val)\n",
    "test = tran_user.transform(test)\n",
    "# print(test.show(1))\n",
    "\n",
    "train = tran_track.transform(train)\n",
    "val = tran_track.transform(val)\n",
    "test = tran_track.transform(test)   \n",
    "# print(test.show(1))\n",
    "\n",
    "train = train.withColumn('user_index', train['user_index'].cast('int'))\n",
    "val = val.withColumn('user_index', val['user_index'].cast('int'))\n",
    "test = test.withColumn('user_index', test['user_index'].cast('int'))\n",
    "\n",
    "train = train.withColumn('track_index', train['track_index'].cast('int'))\n",
    "val = val.withColumn('track_index', val['track_index'].cast('int'))\n",
    "test = test.withColumn('track_index', test['track_index'].cast('int'))\n",
    "print('Successfully encoding the user and track')\n",
    "# print(test.show(1))\n"
   ]
  },
  {
   "cell_type": "markdown",
   "metadata": {
    "id": "J2FqxG7CVC-x"
   },
   "source": [
    "### Save whole data"
   ]
  },
  {
   "cell_type": "code",
   "execution_count": null,
   "metadata": {
    "id": "gJ_cpKhSVHyQ"
   },
   "outputs": [],
   "source": [
    "# train.write.format('parquet').mode('overwrite').save(PATH+'/cf_train_trans.parquet')\n",
    "# val.write.format('parquet').mode('overwrite').save(PATH+'/cf_validation_trans.parquet')\n",
    "# test.write.format('parquet').mode('overwrite').save(PATH+'/cf_test_trans.parquet')"
   ]
  },
  {
   "cell_type": "markdown",
   "metadata": {
    "id": "vIIJKM2Qnnhc"
   },
   "source": [
    "### Save encoding and unique info"
   ]
  },
  {
   "cell_type": "code",
   "execution_count": null,
   "metadata": {
    "colab": {
     "base_uri": "https://localhost:8080/"
    },
    "executionInfo": {
     "elapsed": 789,
     "status": "ok",
     "timestamp": 1620421451390,
     "user": {
      "displayName": "Di He",
      "photoUrl": "",
      "userId": "01551765020394733104"
     },
     "user_tz": 240
    },
    "id": "28_45V6qnnwm",
    "outputId": "ccf3aa62-8af2-4cef-9ab4-4e637697c798"
   },
   "outputs": [
    {
     "name": "stdout",
     "output_type": "stream",
     "text": [
      "[Row(user_index=44596)]\n"
     ]
    }
   ],
   "source": [
    "user_encoding = train.select('user_id', 'user_index').distinct()\n",
    "track_encoding = ((train.select('track_id', 'track_index').distinct()) \n",
    "                  .union(val.select('track_id', 'track_index').distinct())\n",
    "                  .union(test.select('track_id', 'track_index').distinct())).distinct()\n",
    "print(user_encoding.take(1))\n",
    "\n",
    "unique_user_index_val = val.select('user_index').distinct()\n",
    "unique_user_index_test = test.select('user_index').distinct()\n",
    "print(unique_user_index_val.take(1))"
   ]
  },
  {
   "cell_type": "code",
   "execution_count": null,
   "metadata": {
    "id": "FY9QVvp9op7o"
   },
   "outputs": [],
   "source": [
    "user_encoding.write.format('parquet').mode('overwrite').save(PATH+'/user_encoding.parquet')\n",
    "track_encoding.write.format('parquet').mode('overwrite').save(PATH+'/track_encoding.parquet')\n",
    "\n",
    "unique_user_index_val.write.format('parquet').mode('overwrite').save(PATH+'/unique_user_index_val.parquet')\n",
    "unique_user_index_test.write.format('parquet').mode('overwrite').save(PATH+'/unique_user_index_test.parquet')"
   ]
  },
  {
   "cell_type": "markdown",
   "metadata": {
    "id": "r_rGUZpcqeWP"
   },
   "source": [
    "### Save sorted rec for user  "
   ]
  },
  {
   "cell_type": "code",
   "execution_count": null,
   "metadata": {
    "id": "R8-CmpGRqmw-"
   },
   "outputs": [],
   "source": [
    "w = Window.partitionBy('user_index').orderBy('count')\n",
    "\n",
    "\n",
    "true_rec_tracks_val = val.withColumn(\n",
    "    'tracks', func.collect_list('track_index').over(w))\\\n",
    "    .groupBy('user_index')\\\n",
    "    .agg(func.max('tracks').alias('tracks'))\n",
    "true_rec_tracks_val = true_rec_tracks_val.rdd.map(tuple)\n",
    "\n",
    "true_rec_tracks_val.saveAsTextFile(PATH+'/true_rec_tracks_val/')\n",
    "\n",
    "true_rec_tracks_test = test.withColumn(\n",
    "    'tracks', func.collect_list('track_index').over(w))\\\n",
    "    .groupBy('user_index')\\\n",
    "    .agg(func.max('tracks').alias('tracks'))\n",
    "true_rec_tracks_test = true_rec_tracks_test.rdd.map(tuple)\n",
    "true_rec_tracks_test.saveAsTextFile(PATH+'/true_rec_tracks_test/')\n",
    "\n",
    "print('Successfully transform the true values')"
   ]
  },
  {
   "cell_type": "markdown",
   "metadata": {
    "id": "RVHJOlZudGy6"
   },
   "source": [
    "## Sub  [Only Execute Once for Each Fraction]"
   ]
  },
  {
   "cell_type": "markdown",
   "metadata": {
    "id": "4QlF_Ni1foiu"
   },
   "source": [
    "### Load whole data"
   ]
  },
  {
   "cell_type": "code",
   "execution_count": null,
   "metadata": {
    "id": "6XHifVcqdI-9"
   },
   "outputs": [],
   "source": [
    "train = spark.read.parquet(PATH+'/cf_train_trans.parquet')\n",
    "val = spark.read.parquet(PATH+'/cf_validation_trans.parquet')\n",
    "test = spark.read.parquet(PATH+'/cf_test_trans.parquet')"
   ]
  },
  {
   "cell_type": "markdown",
   "metadata": {
    "id": "QfUSj4c6aC4H"
   },
   "source": [
    "### Subsampling"
   ]
  },
  {
   "cell_type": "code",
   "execution_count": null,
   "metadata": {
    "colab": {
     "base_uri": "https://localhost:8080/"
    },
    "executionInfo": {
     "elapsed": 432,
     "status": "ok",
     "timestamp": 1620420970918,
     "user": {
      "displayName": "Di He",
      "photoUrl": "",
      "userId": "01551765020394733104"
     },
     "user_tz": 240
    },
    "id": "dH-9dnqIaDBB",
    "outputId": "37ae5e36-049c-4ca7-87f5-9875635c8c92"
   },
   "outputs": [
    {
     "name": "stdout",
     "output_type": "stream",
     "text": [
      "Successfully subsample the data\n"
     ]
    }
   ],
   "source": [
    "# Get Unique user\n",
    "unique_user = train.select('user_id').distinct()\n",
    "unique_user_val = val.select('user_id').distinct()\n",
    "\n",
    "# Subsample Based on userid\n",
    "subset_unique_user = unique_user.sample(withReplacement=False, fraction=FRACTION).union(unique_user_val).distinct()\n",
    "train_sub = train.join(subset_unique_user, train.user_id == subset_unique_user.user_id, how='leftsemi')\n",
    "print('Successfully subsample the data')"
   ]
  },
  {
   "cell_type": "markdown",
   "metadata": {
    "id": "nG0P5oK2aDQB"
   },
   "source": [
    "### Save subsampling"
   ]
  },
  {
   "cell_type": "code",
   "execution_count": null,
   "metadata": {
    "id": "AWgQgUy7aDYm"
   },
   "outputs": [],
   "source": [
    "train_sub.write.format('parquet').mode('overwrite').save(PATH+'/cf_train_trans_{}.parquet'.format(str(FRACTION).replace('.','_')))"
   ]
  },
  {
   "cell_type": "code",
   "execution_count": null,
   "metadata": {
    "colab": {
     "base_uri": "https://localhost:8080/"
    },
    "executionInfo": {
     "elapsed": 200267,
     "status": "ok",
     "timestamp": 1620421173923,
     "user": {
      "displayName": "Di He",
      "photoUrl": "",
      "userId": "01551765020394733104"
     },
     "user_tz": 240
    },
    "id": "aUnyDZNzmwKe",
    "outputId": "5cb0c47c-abd5-4ad4-f2e6-f441eb69685f"
   },
   "outputs": [
    {
     "name": "stdout",
     "output_type": "stream",
     "text": [
      "2607960\n"
     ]
    }
   ],
   "source": [
    "print(train_sub.count())"
   ]
  }
 ],
 "metadata": {
  "colab": {
   "collapsed_sections": [],
   "name": "01_data_preparation.ipynb",
   "provenance": [],
   "toc_visible": true
  },
  "kernelspec": {
   "display_name": "Python 3",
   "language": "python",
   "name": "python3"
  },
  "language_info": {
   "codemirror_mode": {
    "name": "ipython",
    "version": 3
   },
   "file_extension": ".py",
   "mimetype": "text/x-python",
   "name": "python",
   "nbconvert_exporter": "python",
   "pygments_lexer": "ipython3",
   "version": "3.7.9"
  },
  "toc": {
   "base_numbering": 1,
   "nav_menu": {},
   "number_sections": true,
   "sideBar": true,
   "skip_h1_title": false,
   "title_cell": "Table of Contents",
   "title_sidebar": "Contents",
   "toc_cell": false,
   "toc_position": {},
   "toc_section_display": true,
   "toc_window_display": false
  }
 },
 "nbformat": 4,
 "nbformat_minor": 1
}
